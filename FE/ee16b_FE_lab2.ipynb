{
 "cells": [
  {
   "cell_type": "markdown",
   "metadata": {},
   "source": [
    "# Front End Lab 2: DC Reject and Level Shift\n",
    "\n",
    "### EE 16B: Designing Information Devices and Systems II, Fall 2015"
   ]
  },
  {
   "cell_type": "markdown",
   "metadata": {},
   "source": [
    "**Name 1**:\n",
    "\n",
    "**Login**: ee16b-\n",
    "\n",
    "\n",
    "**Name 2**:\n",
    "\n",
    "**Login**: ee16b-"
   ]
  },
  {
   "cell_type": "markdown",
   "metadata": {},
   "source": [
    "\n",
    "##Table of Contents\n",
    "\n",
    "* [Task 0: Lab 1 Setup](#task0)\n",
    "* [Task 1: DC Reject](#task1)\n",
    "* [Task 2: Level Shift](#task2)"
   ]
  },
  {
   "cell_type": "markdown",
   "metadata": {},
   "source": [
    "<a id='task0'></a>\n",
    "##<span style=\"color:blue\">Task 0: Lab 1 Setup</span>"
   ]
  },
  {
   "cell_type": "markdown",
   "metadata": {},
   "source": [
    "Last week we built a cascade of 3 amplifiers - an instrumentation amplifier and 2 non-inverting amplifiers. Test each amplifier and make sure they still work as expected before continuing with this lab. Prepare your function generator to output the BMI waveform with the following parameters:\n",
    "- Sampling rate: <b>1 kSa/s</b>\n",
    "- Amplitude: <b>100 mVpp</b>\n",
    "- Offset: <b>0 V</b>\n",
    "\n",
    "<b style=\"color:red\">REPLACE the first non-inverting amplifier stage with appropriate resistor values to produce a gain of 10 instead of 100.</b> Use a $100k\\Omega$ and a $10k\\Omega$ resistor. Keep the other stages as before.\n",
    "\n",
    "Also, <b>add a $1\\mu F$ capacitor between your power supply rails (5V & -5V) and the ground rails</b>. This will help reduce the noise in your circuit.\n",
    "\n",
    "###<span style=\"color:green\">IMPORTANT: KEEP THE CIRCUIT IN THIS LAB FOR NEXT LAB</span>\n",
    "Otherwise you will have to rebuild everything again next week."
   ]
  },
  {
   "cell_type": "markdown",
   "metadata": {},
   "source": [
    "<a id='task1'></a>\n",
    "##<span style=\"color:blue\">Task 1: DC Reject</span>\n",
    "\n",
    "###Materials\n",
    "- Lab 1 setup\n",
    "- 1 1$\\mu$F capacitor (labelled 105)\n",
    "- 1 100k$\\Omega$ resistor"
   ]
  },
  {
   "cell_type": "markdown",
   "metadata": {},
   "source": [
    "So what was the problem with our cascade of amplifiers? It turns out that our original signal has some DC offset. The instrumentation amplifier adds to this DC offset; it also has such a large gain such that the output of the instrumentation amplifier has a significant DC offset of around -100mV. Consider the cartoon below. Imagine that the top graphs show the output of your instrumentation amplifier - a small signal that has a small DC offset. It gets amplified to a signal that goes beyond the rail of your circuit!\n",
    "\n",
    "<img style=\"width:400px\" src=\"http://inst.eecs.berkeley.edu/~ee16b/fa15/lab_pics/fe-dc-shift.png\">\n",
    "\n",
    "To solve this issue, we have to get rid of the DC offset of the signal. One way to do this is to apply a high pass filter with a very low cutoff frequency of around 0.1Hz to remove this DC component.\n",
    "\n",
    "Let's take a look at the circuit below:\n",
    "\n",
    "<img style=\"width:200px\" src=\"http://inst.eecs.berkeley.edu/~ee16b/fa15/lab_pics/fe-dc-reject.png\">"
   ]
  },
  {
   "cell_type": "markdown",
   "metadata": {},
   "source": [
    "**<span style=\"color:red\">Using either differential equations of impedances, derive the transfer function $H(\\omega)$ of the circuit.</span>**\n",
    "\n",
    "YOUR ANSWER HERE\n",
    "\n",
    "**<span style=\"color:red\">Sketch the magnitude of the transfer function with dB as y-axis and $log(\\omega)$ as x-axis.</span>**\n",
    "\n",
    "**<span style=\"color:red\">What happens to the voltage across the capacitor if the frequency $\\omega$ is large? What happens if it is small?</span>**\n",
    "\n",
    "YOUR ANSWER HERE"
   ]
  },
  {
   "cell_type": "markdown",
   "metadata": {},
   "source": [
    "Since we want a \"cutoff frequency\" (we will learn more about this in lecture) of around 0.1Hz, we can choose to use a <b>$1\\mu F$</b> capacitor and a <b>$100k\\Omega$</b> resistor in the circuit. This results in a reduction of signal power by 2 at 0.16Hz.\n",
    "\n",
    "Build the circuit above and connect the output of your instrumentation amplifier to the input of the DC reject and the output of the DC reject to the input of the first non-inverting amplifier. Probe the output of the DC reject.\n",
    "\n",
    "<img style=\"width: 750px\" src=\"http://inst.eecs.berkeley.edu/~ee16b/fa15/lab_pics/fe-block-2.png\">"
   ]
  },
  {
   "cell_type": "markdown",
   "metadata": {},
   "source": [
    "**<span style=\"color:red\">What is the DC offset of the input of your DC Reject? How about the output of your DC Reject?</span>**\n",
    "\n",
    "YOUR ANSWER HERE"
   ]
  },
  {
   "cell_type": "markdown",
   "metadata": {},
   "source": [
    "<b>Without connecting the output to your Launchpad</b>, probe the output of the whole chain with the oscilloscope.\n",
    "\n",
    "**<span style=\"color:red\">What do you see? What is the issue now?</span>** Hint: Your Launchpad ADC takes input voltages of -0.3 to 3.6V. If you give it any voltage beyond this range you will burn the pin.\n",
    "\n",
    "YOUR ANSWER HERE"
   ]
  },
  {
   "cell_type": "markdown",
   "metadata": {},
   "source": [
    "**<span style=\"color:red\">Checkoff: Show your GSI the output of your DC reject.</span>** "
   ]
  },
  {
   "cell_type": "markdown",
   "metadata": {},
   "source": [
    "<a id='task2'></a>\n",
    "##<span style=\"color:blue\">Task 2: Level Shift</span>\n",
    "\n",
    "###Materials\n",
    "- Task 1 setup\n",
    "- resistors"
   ]
  },
  {
   "cell_type": "markdown",
   "metadata": {},
   "source": [
    "It may look like we have a pretty good signal output already, but it's not at the right voltage offset! It turns out that our Launchpad ADC works at the voltage of the board, which is 0 to 3.3V. Thus, we need to have a level-shift that brings the signal to the right voltage range. To fix this problem, we will modify the last non-inverting amplifier to do a level shift. The circuit we will implement is shown below.\n",
    "\n",
    "<img style=\"width:350px\" src=\"http://inst.eecs.berkeley.edu/~ee16b/fa15/lab_pics/fe-level-shift.png\">\n",
    "\n",
    "<b>Assuming the input voltage is -200mV to 200mV</b>, choose the resistor values for the circuit above such that the output ranges from <b>0V to 3.3V</b>. (Hint: you have done this before in EE16A; start with getting the signal to a positive voltage range using the resistive divider, then choose a gain value to get the range to 0-3.3V). Choose approximate resistor values that you can find in the cabinet (you can round $5k\\Omega$ to $5.1k\\Omega$, etc.). You can use 2 resistors in parallel or in series, although anything more than 2 would be too much."
   ]
  },
  {
   "cell_type": "markdown",
   "metadata": {},
   "source": [
    "**<span style=\"color:red\">What resistor values did you choose?</span>**\n",
    "\n",
    "YOUR ANSWER HERE"
   ]
  },
  {
   "cell_type": "markdown",
   "metadata": {},
   "source": [
    "Now <b>modify your last non-inverting amplifier</b> to the level-shift amplifier above. Your circuit should look like the block diagram below.\n",
    "\n",
    "<img style=\"width: 750px\" src=\"http://inst.eecs.berkeley.edu/~ee16b/fa15/lab_pics/fe-block-3.png\">\n",
    "\n",
    "If you probe the output of the level-shift amplifier, you should see a waveform similar to below. Note that the signal is within the 0-3.3V range!\n",
    "\n",
    "<img style=\"width:600px\" src=\"http://inst.eecs.berkeley.edu/~ee16b/fa15/lab_pics/fe-scope-level-shift.png\">\n",
    "\n",
    "Now you're ready! Connect the output of your circuit to the Launchpad `P6.0` again and run the python script.\n",
    "\n",
    "**<span style=\"color:red\">Checkoff: Show the final output to your GSI both in the oscilloscope and in the python plot.</span>**"
   ]
  },
  {
   "cell_type": "markdown",
   "metadata": {},
   "source": [
    "###<span style=\"color:green\">IMPORTANT: KEEP THE CIRCUIT IN THIS LAB FOR NEXT LAB</span>\n",
    "Otherwise you will have to rebuild everything again next week.\n",
    "\n",
    "You're almost there! We have a signal that is somewhat large enough for the ADC and is at the right voltage range, but as you can see the signal is very noisy. We also need to analyze how our sampling behaves in the frequency domain. Next week we will see how our circuit actually aliases frequencies above half its sampling frequency and modify our signal processing circuit to solve the issue."
   ]
  }
 ],
 "metadata": {
  "kernelspec": {
   "display_name": "Python 3",
   "language": "python",
   "name": "python3"
  },
  "language_info": {
   "codemirror_mode": {
    "name": "ipython",
    "version": 3
   },
   "file_extension": ".py",
   "mimetype": "text/x-python",
   "name": "python",
   "nbconvert_exporter": "python",
   "pygments_lexer": "ipython3",
   "version": "3.4.3"
  }
 },
 "nbformat": 4,
 "nbformat_minor": 0
}
