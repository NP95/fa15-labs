{
 "cells": [
  {
   "cell_type": "markdown",
   "metadata": {},
   "source": [
    "# SIXT33N version B \n",
    "## Phase 1: Microphone Front End and Signal Processing\n",
    "\n",
    "### EE 16B: Designing Information Devices and Systems II, Fall 2015"
   ]
  },
  {
   "cell_type": "markdown",
   "metadata": {},
   "source": [
    "**Name 1**:\n",
    "\n",
    "**Login**: ee16b-\n",
    "\n",
    "\n",
    "**Name 2**:\n",
    "\n",
    "**Login**: ee16b-"
   ]
  },
  {
   "cell_type": "markdown",
   "metadata": {},
   "source": [
    "\n",
    "##Table of Contents\n",
    "\n",
    "* [Introduction](#intro)\n",
    "* [Part 1: Microphone Front End](#part1)\n",
    "* [Part 2: Gain and Filter](#part2)\n",
    "* [Part 3: Speech Data Collection](#part3)"
   ]
  },
  {
   "cell_type": "markdown",
   "metadata": {},
   "source": [
    "<a id='intro'></a>\n",
    "## Introduction\n",
    "\n",
    "To enable the SIXT33N to recognize certain speech patterns, you will need a microphone circuit that processes the mic signal into something you can record using the Launchpad ADC. This processing includes applying some gain and filtering higher frequencies to avoid aliasing. \n",
    "\n",
    "The goals of this phase are as follows:\n",
    "- Low pass filter circuit\n",
    "- Level shift + gain circuit for ADC\n",
    "- View ADC output on PC\n",
    "- Record data for next phase"
   ]
  },
  {
   "cell_type": "markdown",
   "metadata": {},
   "source": [
    "<a id='part1'></a>\n",
    "##<span style=\"color:blue\">Part 1: Microphone Front End</span>\n",
    "\n",
    "###Materials\n",
    "- Opamps\n",
    "- Resistors + Potentiometer\n",
    "- Capacitors\n",
    "- 1 Electret Microphone\n",
    "- Power supply + cables\n",
    "- Oscilloscope + probe"
   ]
  },
  {
   "cell_type": "markdown",
   "metadata": {},
   "source": [
    "The SIXT33N will run on a 9V battery regulated to 5V, but for now we can just use the power supply at your bench. Set your breadboard up with a 5V and a ground rail on both sides (note that you do not have a -5V rail). Try to leave some space on both sides of the breadboard for the voltage regulator, motor driver and wheel encoder circuits in the later phases.\n",
    "\n",
    "<b>KEEP YOUR CIRCUIT NEAT!</b> That goes without saying :)\n",
    "\n",
    "The electret microphone you will use behaves as a variable current source. To turn that into a voltage reading out of the microphone, you need the circuit below. <b>Note that the microphone is polarized</b> - the pin with the 3 metal lines is the ground pin. \n",
    "\n",
    "\n",
    "<img style=\"width:220px\" src=\"http://inst.eecs.berkeley.edu/~ee16b/fa15/lab_pics/proj-mic.png\">\n",
    "\n",
    "You will have to be careful with any DC offset of the output signal since small DC values will quickly become large DC values after gain stages. This is a problem beause you only have a 3.3V range. The capacitor and the two resistors on the output will be used for changing the DC value in the rest of the circuit. In order to make the DC biasing easier, you may want to use a new device: a potentiometer. The potentiometer has 3 terminals. Think of the top two terminals as one resistor and the bottom two as a a second resistor. The two resistors must add up to 10k$\\Omega$, but by turning the knob, you can make the first resistor large and the second small, or vice versa.\n",
    "\n",
    "<img style=\"width:120px\" src=\"http://inst.eecs.berkeley.edu/~ee16b/fa15/lab_pics/pot.png\">\n",
    "\n",
    "There are 2 ways potentiometers are usually used:\n",
    "- Voltage divider (all 3 terminals used)\n",
    "- Variable resistor (only top or bottom resistor used)\n",
    "\n",
    "The second thing to note is that the resistors and the capacitor also form a high pass filter. In order to keep the high pass filter from filtering too much of the signal that you want, you will need the resistor values to be very large (larger than the potentiometer). You would like your high pass cutoff frequeny to be around 10Hz or lower. Design your DC biasing with this in mind.\n",
    "\n",
    "Once you have the microphone circuit finished, probe the output node using an oscilloscope to see output waveform. Tune the potentiometer such that when you apply a loud sound the signal at the output is not clipped (it might be helpful if you play <a href=\"http://plasticity.szynalski.com/tone-generator.htm\">a constant tone</a>). This signal will be the input to your first filter or gain stage."
   ]
  },
  {
   "cell_type": "markdown",
   "metadata": {},
   "source": [
    "**<span style=\"color:red\">What is the maximum peak-to-peak voltage at the output?</span>** We will call this value $V_{\\text{mic, max}}$.\n",
    "\n",
    "YOUR ANSWER HERE\n",
    "\n",
    "**<span style=\"color:red\">What is the DC voltage at the output?</span>** We will call this value $V_{\\text{mic,DC}}$.\n",
    "\n",
    "YOUR ANSWER HERE"
   ]
  },
  {
   "cell_type": "markdown",
   "metadata": {},
   "source": [
    "Your robot will run off of a 9V battery. In order to get a 5V source on the car you need to add a voltage regulator circuit. The <a href=\"http://www.ti.com/lit/ds/symlink/lm340-n.pdf\">LM34015</a> is a voltage regulator that outputs around 5V. Glance through the datasheet to find the pin diagram. The input $V_\\text{in}$ will be connected to 9V (from your power source for now, and the battery later). The output will now supply the 5V you were using before. Don't forget to connect the ground of the regulator to the rail you want to be ground. Add 2 capacitors (use 1 $\\mu$F or 100nF capacitors) as in the schematic below. These will help decrease noise.\n",
    "\n",
    "<center><img src=\"http://inst.eecs.berkeley.edu/~ee16b/fa15/lab_pics/proj-vol-reg.jpg\"></center>\n",
    "\n",
    "**<span style=\"color:red\">Use your multimeter to check that the output of your regulator is 5V.</span>**\n",
    "\n",
    "Once you are sure the output is behaving as you expect, use the 5V output to power your microphone circuit. Make sure that the output still behaves as before."
   ]
  },
  {
   "cell_type": "markdown",
   "metadata": {},
   "source": [
    "<a id='part2'></a>\n",
    "##<span style=\"color:blue\">Part 2: Gain and Filter</span>\n",
    "\n",
    "###Materials\n",
    "- Opamps\n",
    "- Resistors + Potentiometer\n",
    "- Capacitors\n",
    "- 1 Electret Microphone\n",
    "- Power supply + cables\n",
    "- Oscilloscope + probe"
   ]
  },
  {
   "cell_type": "markdown",
   "metadata": {},
   "source": [
    "Here comes the fun part! \n",
    "\n",
    "Given $V_{\\text{mic, max}}$ and $V_{\\text{mic,DC}}$, design a circuit that amplifies and level-shifts the signal so that the output voltage ranges from 0 to 3.3V when the loudest sound is applied. You can use any number of op amps, resistors, or capacitors, and will be given one additional potentiometer.\n",
    "\n",
    "Watch out for the points below:\n",
    "- The input signal is very small!\n",
    "- The Launchpad will sample every 0.35 ms, so without the appropriate filter your signal will be aliased.\n",
    "- The frequencies you care about and the aliasing noise are close so choose the order of your filter accordingly.\n",
    "- Your breadboard has a 5V power soure, and the Launchpad has 3.3V so watch out for the DC level of the signals. Once you build your circuit you will use the potentiometer to make sure that the DC levels are in the correct place.\n",
    "\n",
    "\n",
    "<b>Your final stage must be the following buffer circuit. This is a separate op amp chip that will be powered off of the Launchpad 3.3V. The buffer will prevent any damage to your Launchpad pins.</b>\n",
    "\n",
    "<center><img width='220px' src=\"http://inst.eecs.berkeley.edu/~ee16b/fa15/lab_pics/proj-buffer.png\"></center>"
   ]
  },
  {
   "cell_type": "markdown",
   "metadata": {},
   "source": [
    "**<span style=\"color:red\">Draw a block diagram of your circuit, show it to your GSI and keep it for the final demo.</span>** Your design choies and process are a very important part of this phase. Make sure that you record and describe in detail all of your reasons for each design choice. \n",
    "\n",
    "Mark down the expected voltage range, frequeny range, and DC value of your signal at each input and output wire in the diagram. Label the gain and cutoff frequency of each block. Make sure that the output matches the requirements above."
   ]
  },
  {
   "cell_type": "markdown",
   "metadata": {},
   "source": [
    "**<span style=\"color:red\">Draw a schematic of your circuit, show it to your GSI and keep it for the final demo.</span>** Make sure the voltage ranges, gain and cutoff frequencies match your block diagram."
   ]
  },
  {
   "cell_type": "markdown",
   "metadata": {},
   "source": [
    "<b>Once your GSI approves your schematic</b>, build it and verify that it behaves as expected. Just as a reminder, try to fit it as close to the center of the breadboard as possible. \n",
    "\n",
    "**<span style=\"color:red\">Check that:</span>**\n",
    "- The DC offset at each node is the same as your block diagram\n",
    "- The gain of each amplifier is the same as your block diagram"
   ]
  },
  {
   "cell_type": "markdown",
   "metadata": {},
   "source": [
    "**<span style=\"color:red\">Check the frequency response of your circuit.</span>** Use the function generator to apply a specific input frequency (instead of $V_{mic}$). Watch the output of your signal on your scope and change the frequency from low to high. Check that the amplitude of the output at the cutoff frequency is attenuated as expected (i.e. check that your 3dB point happens at the cutoff frequency that you want)."
   ]
  },
  {
   "cell_type": "markdown",
   "metadata": {},
   "source": [
    "<a id='part3'></a>\n",
    "##<span style=\"color:blue\">Part 3: Speech Data Collection</span>\n",
    "\n",
    "###Materials\n",
    "- Part 1 setup\n",
    "- Launchpad + USB cable"
   ]
  },
  {
   "cell_type": "markdown",
   "metadata": {},
   "source": [
    "Your Launchpad will be colleting your speech data. Begin integrating your circuit with the Launhpad by checking the output.\n",
    "\n",
    "Make sure that the ADC works properly by uploading <b>`adc_read.ino`</b> to the Launchpad. Connect pin 6.0 to the output of your circuit and the ground of the Launchpad to the ground of your circuit. From the command line, run <b>`python adc_read.py -D COM###`</b> (substitute `###` with the proper number from Device Manager). This code samples the ADC every 3ms. We will use a higher sampling rate soon, but for now make sure the plot of the ADC output looks similar to your scope output."
   ]
  },
  {
   "cell_type": "markdown",
   "metadata": {},
   "source": [
    "Next, you will setup your Launchpad to collect the actual data.\n",
    "\n",
    "Upload <b>`collect-data-speech.ino`</b> to the Launchpad and run <b>`python collect-data.py log.csv`</b>. This sketch and script samples the ADC every 0.35ms (what is the sampling frequency?) and streams the readings to the PC after every 2*1378 samples (how long does it take to sample that many samples?). Quickly read through the sketch code to figure out the format of the data streamed back to the PC. You will be using this sketch to gather the data you need for your PCA in the next phase."
   ]
  }
 ],
 "metadata": {
  "kernelspec": {
   "display_name": "Python 3",
   "language": "python",
   "name": "python3"
  },
  "language_info": {
   "codemirror_mode": {
    "name": "ipython",
    "version": 3
   },
   "file_extension": ".py",
   "mimetype": "text/x-python",
   "name": "python",
   "nbconvert_exporter": "python",
   "pygments_lexer": "ipython3",
   "version": "3.4.3"
  }
 },
 "nbformat": 4,
 "nbformat_minor": 0
}
