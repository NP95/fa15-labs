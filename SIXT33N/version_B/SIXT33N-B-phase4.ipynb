{
 "cells": [
  {
   "cell_type": "markdown",
   "metadata": {},
   "source": [
    "# SIXT33N version B \n",
    "## Phase 4: Integration\n",
    "\n",
    "### EE 16B: Designing Information Devices and Systems II, Fall 2015"
   ]
  },
  {
   "cell_type": "markdown",
   "metadata": {},
   "source": [
    "**Name 1**:\n",
    "\n",
    "**Login**: ee16b-\n",
    "\n",
    "\n",
    "**Name 2**:\n",
    "\n",
    "**Login**: ee16b-"
   ]
  },
  {
   "cell_type": "markdown",
   "metadata": {},
   "source": [
    "\n",
    "##Table of Contents\n",
    "\n",
    "* [Introduction](#intro)\n",
    "* [Integration](#part1)\n",
    "* [Final Demo and Writeup](#part2)"
   ]
  },
  {
   "cell_type": "markdown",
   "metadata": {},
   "source": [
    "<a id='intro'></a>\n",
    "## Introduction\n",
    "\n",
    "Now you are in your last steps! The SIXT33N has slowly been taking shape - all you need to do now is to put everything together in a single Launchpad sketch. As a reminder, the objective is to get the SIXT33N to move straight when it hears a command, and to move either fast or slow depending on which command it head."
   ]
  },
  {
   "cell_type": "markdown",
   "metadata": {},
   "source": [
    "<a id='part1'></a>\n",
    "##<span style=\"color:blue\">Integration</span>"
   ]
  },
  {
   "cell_type": "markdown",
   "metadata": {},
   "source": [
    "Everything you work on in this phase will be in the sketch `integration.ino`, which is your final sketch for the SIXT33N. Open the sketch - we will quickly walk through the sketch. As we go through it, fill in sections labelled `YOUR CODE HERE` as instructed.\n"
   ]
  },
  {
   "cell_type": "markdown",
   "metadata": {},
   "source": [
    "###Encoder Pins\n",
    "\n",
    "The top of the sketch contains some constant and variable definitions. We start with defining pins. The choice of these pins (especially the encoder pins) are embedded in the actual code, so if pins 2.4 or 1.4 got burned at some point in the semester, now is the time to flag down your GSI. They will help you modify the important part of the sketch.\n",
    "\n",
    "###Data Collection Variables\n",
    "\n",
    "After defining some more constants, we reach the block labeled \"Enveloping constants.\" <b>Use your phase 2 results to fill in these constants.</b> As a reminder, `SNIPPET_SIZE` is the number of samples in your speech snippet, `PRESNIPPET` is the number of samples in the snippet before it crosses the threshold, and `THRESHOLD` is the threshold value (out of 1) for the starting sample of the snippet relative to the highest sample after enveloping.\n",
    "\n",
    "###PCA Vectors\n",
    "\n",
    "In the main body of the sketch, the code defines 2 modes: `MODE_LISTEN` and `MODE_DRIVE`. We can look at the 2 modes and see what they are doing. \n",
    "\n",
    "In `MODE_LISTEN`, the SIXT33N listens for and classifies commands. The Launchpad will repeatedly record some samples and take the envelope. You don't want to classify classroom noise, so the code checks if the the envelope has surpassed a certain loudness level. If that loudness level is passed, then it assumes that you spoke a command at is, and it will try to classify the sound envelope using the PCA vectors. If the Launchpad sucessfully classifies a command then it will enter `MODE_DRIVE`.\n",
    "\n",
    "Go to the section labelled \"PCA variables/constants\". Again, <b>use your phase 2 results to fill in the arrays.</b> If you did not need to use zero-meaning for your PCA you can leave the `pca_mean` vector as `{0}`. We have already provided code that does the projection in the main loop of the sketch.\n",
    "\n",
    "###Wheel Control\n",
    "\n",
    "In `MODE_DRIVE`, the SIXT33N executes the closed loop control. Depending on the command that was classified, it will set a desired speed and then go straight at that speed.\n",
    "\n",
    "For this, you will need to fill in the variables for the closed loop control. In the section marked \"Controller gain vector\" <b>add your controller gain values for the left and right wheels you found in phase 3.</b> We have also provided the code that takes care of the closed loop control.\n",
    "\n",
    "###PCA Classification\n",
    "\n",
    "Finally, there is one more section you need to modify: the PCA classification. Inside the function `loop()`, in the section marked `YOUR CODE HERE`, <b>add your classification boundaries in the `if` statements from phase 2.</b> The first `if` statement triggers a fast straight drive while the second triggers a slower straight drive. You can also change the values `0.06` and `0.02` if you want to use a speed."
   ]
  },
  {
   "cell_type": "markdown",
   "metadata": {},
   "source": [
    "That's it! You should be set. Now load the sketch into your Launchpad and make sure your Launchpad's 5V pin is connected to the voltage regulator output. If you forgot the pins you should attach to the motors and encoders, you can find them in the define statements in the top of the Launchpad sketch. If your car doesn't have as much drive as before, you might need to change to fresh batteries - check the voltage of your battery using the Digital Multimeter and if it is considerably less than 9V ask for fresh ones.\n",
    "\n",
    "Put your car on the floor and try shouting some commands at it! Hopefully, it can classify both commands correctly and move in a straight line at different speeds.\n",
    "\n",
    "Did it work? If not, you might still need to tweak your control parameters. If it did work: time to celebrate!"
   ]
  },
  {
   "cell_type": "markdown",
   "metadata": {},
   "source": [
    "<a id='part2'></a>\n",
    "##<span style=\"color:blue\">Final Demo and Writeup</span>"
   ]
  },
  {
   "cell_type": "markdown",
   "metadata": {},
   "source": [
    "Congratulations - You're done! If you have some time, be creative and try to add a functionality to the SIXT33N! Don't hesitate to ask for your GSI's help when you want to modify the Launchpad sketch since it is more complicated than previous sketches. \n",
    "\n",
    "###Demo\n",
    "During the final demo on Thursday (12/10), you will bring your SIXT33N and show Elad and the GSIs your project. Say the 2 different words it recognizes and show that the SIXT33N moves straight at different speeds. Make sure that you bring in a <b>neat</b> schematic from phase 1 and are prepared to explain your design process and choices. You might also get some questions from the staff.\n",
    "\n",
    "###Writeup\n",
    "Don't forget to write up your circuit design in phase 1. The writeup will be 2 pages that you will hand in during the final demos. The writeup should hit these topics:\n",
    "\n",
    "Page 1 : \n",
    "- Explain your design process and your final circuit.\n",
    "- What worked, what didn't? What problems did you run into and how did you solve them?\n",
    "- What did you learn from this process? What changes might you make if you were to do this again?\n",
    "\n",
    "Page 2:\n",
    "- Schematic of your final circuit, make sure that it is neat and legible!\n",
    " "
   ]
  }
 ],
 "metadata": {
  "kernelspec": {
   "display_name": "Python 3",
   "language": "python",
   "name": "python3"
  },
  "language_info": {
   "codemirror_mode": {
    "name": "ipython",
    "version": 3
   },
   "file_extension": ".py",
   "mimetype": "text/x-python",
   "name": "python",
   "nbconvert_exporter": "python",
   "pygments_lexer": "ipython3",
   "version": "3.4.3"
  }
 },
 "nbformat": 4,
 "nbformat_minor": 0
}
