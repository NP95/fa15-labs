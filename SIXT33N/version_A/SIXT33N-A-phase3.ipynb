{
 "cells": [
  {
   "cell_type": "markdown",
   "metadata": {},
   "source": [
    "# SIXT33N version A\n",
    "## Phase 3: Controls\n",
    "\n",
    "### EE 16B: Designing Information Devices and Systems II, Fall 2015"
   ]
  },
  {
   "cell_type": "markdown",
   "metadata": {},
   "source": [
    "**Name 1**:\n",
    "\n",
    "**Login**: ee16b-\n",
    "\n",
    "\n",
    "**Name 2**:\n",
    "\n",
    "**Login**: ee16b-"
   ]
  },
  {
   "cell_type": "markdown",
   "metadata": {},
   "source": [
    "##Table of Contents\n",
    "\n",
    "* [Introduction](#intro)\n",
    "* [Part 1: The SIXT33N Car](#part1)\n",
    "* [Part 2: Sensors and Actuators](#part2)\n",
    "* [Part 3: Open Loop System Modeling](#part3)\n",
    "* [Part 4: Closed Loop Simulation and Implementation](#part4)"
   ]
  },
  {
   "cell_type": "markdown",
   "metadata": {},
   "source": [
    "<a id='intro'></a>\n",
    "## Introduction\n",
    "\n",
    "In this phase we will first build the SIXT33N chassis and the sensors (wheel encoders) and actuators (motor drivers). We will also power the car up using a 9V battery. Next, we will model the the car as an open loop system. We will gather some dynamics data to figure out the variables in our model and lastly build a closed loop controller. By the end of the phase, you should be able to move straight at a constant speed. In the last phase, you will integrate your moving car with all the other components of your project.\n",
    "\n",
    "The goals of this phase are as follows:\n",
    "- Motor driver circuit\n",
    "- Wheel encoder circuit\n",
    "- System modelling\n",
    "- Controller design\n",
    "- Closed loop simulation\n",
    "- Move at constant speed"
   ]
  },
  {
   "cell_type": "markdown",
   "metadata": {},
   "source": [
    "<a id='part1'></a>\n",
    "## <span style=\"color:blue\">Part 1: The SIXT33N Car</span>\n",
    "\n",
    "###Materials\n",
    "- Chassis kit\n",
    "- 2 Photointerrupters\n",
    "- Soldering iron + solder\n",
    "- Small pieces of cardboard"
   ]
  },
  {
   "cell_type": "markdown",
   "metadata": {},
   "source": [
    "Build the SIXT33N car from the kit. The instructions can be found in the <a href=\"http://inst.eecs.berkeley.edu/~ee16b/fa15/proj/\">project page</a>."
   ]
  },
  {
   "cell_type": "markdown",
   "metadata": {},
   "source": [
    "<a id='part2'></a>\n",
    "## <span style=\"color:blue\">Part 2: Sensors and Actuators</span>\n",
    "\n",
    "###Materials\n",
    "- Part 1 setup\n",
    "- 4 BS250 PMOS transistors\n",
    "- 2 1k$\\Omega$ resistors\n",
    "- 2 300$\\Omega$ resistors\n",
    "- Switch\n",
    "- 9V battery + battery leads"
   ]
  },
  {
   "cell_type": "markdown",
   "metadata": {},
   "source": [
    "## Motor Drivers\n",
    "To be able to move, the car needs motor drivers. The DC motors we use are usually driven by a Pulse Width Modulated (PWM) signal which will be produced by the Launchpad. A PWM signal is simply a square wave at a certain frequency but with variable duty cycle (percentage time the signal is high in a period). However, the wheels need a higher voltage and current source than the Launchpad can supply. To solve this issue, we will hook the wheels up to 5V and use a PMOS transistor control whether the motor is powered or not. Recall that a PMOS conducts when the gate-source voltage is higher than a threshold. In the circuit below, the terminal connected to the 5V power source is the source terminal. That means when the Launchpad outputs a 0 the motor is driven, and when it outputs a 1 the motor is off. Keep this in mind - it will be handy later.\n",
    "\n",
    "<center>\n",
    "<img width='220px' src=\"http://inst.eecs.berkeley.edu/~ee16b/fa15/lab_pics/proj-motor-driver.png\">\n",
    "</center>"
   ]
  },
  {
   "cell_type": "markdown",
   "metadata": {},
   "source": [
    "<b>Construct the circuit above for both wheels using the <a href=\"http://www.vishay.com/docs/70209/70209.pdf\">BS250</a> PMOS on the breadboard</b>. Note that the two PMOSes for each driver are connected in parallel. The breadboard should go on the car chassis. \n",
    "\n",
    "The motor is reversible so connect it any way for now. Connecting the motor backwards will only cause the car to drive backwards. If one or both wheels is moving backwards, just reverse the two terminals of the motor. \n",
    "\n",
    "The pin diagram of the PMOS is reproduced below. Be careful when you connect the PMOS and double check which terminal is which since it is easy to damage if you hooked it up incorrectly. Note that the diagram says top view. Also note that the diagram below is not in the same orientation as the one in the circuit above. Leave the gate of the PMOS connected to 5V for now - we will connect it to the Launchpad later.\n",
    "\n",
    "\n",
    "<center>\n",
    "<img width='140px' src=\"http://inst.eecs.berkeley.edu/~ee16b/fa15/lab_pics/proj-bs250.png\">\n",
    "</center>"
   ]
  },
  {
   "cell_type": "markdown",
   "metadata": {},
   "source": [
    "## Wheel Encoders\n",
    "\n",
    "Besides driving, the car also needs to be able to sense how far it has travelled and the speed at which it is travelling. To do this, we will use a <a href=\"http://www.sharp-world.com/products/device/lineup/data/pdf/datasheet/gp1a58hr_e.pdf\">photointerrupter</a> and a wheel encoder. When you built the car you should have attached a disk with holes to the motors. You should also have soldered wires to the photointerrupters. We will now connect these in the correct way. The diagram below shows the photointerrupter from the top (i.e. black plastic facing you, pins going into the screen).\n",
    "\n",
    "<center>\n",
    "<img width='350px' src=\"http://inst.eecs.berkeley.edu/~ee16b/fa15/lab_pics/proj-photoint-top.png\">\n",
    "</center>"
   ]
  },
  {
   "cell_type": "markdown",
   "metadata": {},
   "source": [
    "The right side of the component is an infrared LED. The left side of the component is a photodiode which conducts current only when it sees the light from the infrared LED, just like the solar cells you used last semester. There is some circuitry to make the signal a digital signal so the output is a square wave. If the space between the LED and the photodiode is empty, it will output a high signal. If the space is blocked and the light is obscured it outputs a low signal. From this, we can imply how fast the wheel is moving from the holes in the encoder, because the square wave will be at higher frequencies for high speeds and low frequencies for low speeds.\n",
    "\n",
    "Connect the 5 terminals of the photointerrupter as shown below. The diagram is drawn to mimic the diagram above, but <b>note that these views are with the pins away from you</b>.\n",
    "\n",
    "<center>\n",
    "<img width='450px' src=\"http://inst.eecs.berkeley.edu/~ee16b/fa15/lab_pics/proj-photoint-circuit.png\">\n",
    "</center>\n",
    "\n",
    "Add the resistors on the breadboard and connect the components correctly for both photointerrupters. Again, leave out the Launchpad pin - we will connect this later.\n",
    "\n",
    "<b>Make sure the wheel encoders can freely turn and are not touching the photointerrupters. If they are in contact, add some cardboard padding to lift the photointerrupters.</b>"
   ]
  },
  {
   "cell_type": "markdown",
   "metadata": {},
   "source": [
    "## Battery\n",
    "\n",
    "Rather than trying to run after your car while carrying a power soure, we will use a 9V battery as the input to your voltage regulator. However, to make it easier and safer to turn the battery on and off, we will add a switch. Use the middle pin of the switch and one of the other pins to connect the 9V battery lead to the voltage regulator input. The ground of the 9V battery lead should go to the ground of the circuit.\n",
    "\n",
    "Note that if you are testing things at the bench, use the benchtop power supply. The battery does not have a lot of milli-Amp hours and the motors use a lot of power. If you leave it running it will only last a little over an hour. If the voltage of the battery drops below 7V, ask for a new one from your GSI. <b>Do not connect both the power source and the battery at the same time. Don't do it.</b>\n",
    "\n",
    "You will power the Launchpad through its 5V pin. However, because the motors are going to draw a lot of power, they make the power rail too noisy for the Launchpad. To fix this you will want to make a slightly quieter power rail for the launchpad. Connect the 5V output of the voltage regulator to the 5V rail, and also connect it to a separate row in the breadboard. In that new 5V row, add a large (>10$\\mu$F) capacitor from that row to ground. Use this 5V row to power up the Launchpad's 5V pin. The capacitor will keep the 5V supply from dropping out when the motors turn on and will ensure a stable power source for the Launchpad."
   ]
  },
  {
   "cell_type": "markdown",
   "metadata": {},
   "source": [
    "<a id='part3'></a>\n",
    "## <span style=\"color:blue\">Part 3: Open Loop System Modeling</span>\n",
    "\n",
    "###Materials\n",
    "- Part 2 setup\n",
    "- Launchpad + USB cable"
   ]
  },
  {
   "cell_type": "markdown",
   "metadata": {},
   "source": [
    "Before trying to control SIXT33N, we will first characterize the open loop reponse of the system. To make modeling easier, we will separate the two wheels' model. The model that we create for both wheels can be identical because they are symmetric. We will use the open loop model you have seen many times in lecture and homework where the state is defined as the distance the wheel has travelled since reset and the velocity of the wheel. The open loop model has an input $u[k]$ which is the equivalent of force (in reality, the change in PWM level) and outputs both the distance and the velocity (thus the $C$ matrix is just the identity matrix).\n",
    "\n",
    "$$\\begin{bmatrix} d[k+1] \\\\ v[k+1] \\end{bmatrix} = A \\begin{bmatrix} d[k] \\\\ v[k] \\end{bmatrix} + B u[k]$$\n",
    "\n",
    "$$A = \\begin{bmatrix} 1 & T_s \\\\ 0 & 1 \\end{bmatrix} \\qquad B = \\begin{bmatrix} b_1 \\\\ b_2 \\end{bmatrix}$$"
   ]
  },
  {
   "cell_type": "markdown",
   "metadata": {},
   "source": [
    "All distances are measured in cm (each encoder tick corresponds to 1cm of wheel travel) while time is measured in ms. As you can see, there are 2 unknown variables, namely $b_1$ and $b_2$. To determine these parameters, we will perform least squares regression on each row. You will do this for both wheels separately.\n",
    "\n",
    "<b>Your car wheels are going to move in this step. Make sure that the car is suspended above the desk, either with your hand or the clamp at the desk. Don't let your car jump off the bench.</b>\n",
    "\n",
    "First, you will connect the car to your Launchpad. Remove 5V from the gate of the MOSFET. <b>Do not forget to remove the 5V</b>. Now, connect the Launchpad pins that control the motors and encoders:\n",
    "\n",
    " - LEFT_MOTOR P2_0\n",
    " - LEFT_ENCODER P2_4\n",
    " - RIGHT_MOTOR P1_5\n",
    " - RIGHT_ENCODER P1_4\n",
    " \n",
    "Now, you will collect the data by uploading the sketch <b>`dynamics_data.ino`</b>. Glance through the sketch - it records the position and the average time between encoder ticks (i.e. 1/velocity) of each wheel while slightly varying the input signal $u[k]$. The sampling period is $T_s = 200$ms. Power the Launchpad from the voltage regulator using the 5V pin. Place the car in a large empty space and hit the reset button. After a couple seconds it will start moving and a couple seconds after that it starts collecting data. When it stops moving bring the car to your PC and connect the Launchpad to your PC using a USB cable. Open Serial Monitor in Energia - you will see a lot of data printed. Copy the data between two \"Start\" lines (150 lines total) to a text file called <b>`data.txt`</b>. This data will be used in the cells below.\n",
    "\n",
    "Now that we have some data, we can try performing least square regression. If you have time, formulate the least squares problem for each row of the matrix equation above on a piece of paper. The code below solves for $b_1$ and $b_2$ given the data. First run the code without running the fifth cell to find the parameters for the left wheel, then run the code without running the fourth cell to find the parameters for the right wheel. Record the parameters for later use."
   ]
  },
  {
   "cell_type": "code",
   "execution_count": null,
   "metadata": {
    "collapsed": true
   },
   "outputs": [],
   "source": [
    "import numpy as np\n",
    "import matplotlib.pyplot as plt\n",
    "%matplotlib inline"
   ]
  },
  {
   "cell_type": "code",
   "execution_count": null,
   "metadata": {
    "collapsed": false
   },
   "outputs": [],
   "source": [
    "DATA_LEN = 150\n",
    "data = np.zeros((DATA_LEN,5))\n",
    "f = open('data.txt', 'r')\n",
    "for i,line in enumerate(f.readlines()):\n",
    "    data[i,:] = str.split(line, ',')\n",
    "f.close()"
   ]
  },
  {
   "cell_type": "code",
   "execution_count": null,
   "metadata": {
    "collapsed": false
   },
   "outputs": [],
   "source": [
    "# Load the data\n",
    "Ts = 200\n",
    "u_k = np.matrix(data[1:,0] - data[:DATA_LEN-1,0]).T\n",
    "\n",
    "d_k_left = np.matrix(data[:DATA_LEN-1,1]).T     # d[k]\n",
    "d_k1_left = np.matrix(data[1:,1]).T             # d[k+1]\n",
    "v_k_left = np.matrix(1/data[:DATA_LEN-1,2]).T   # v[k]\n",
    "v_k1_left = np.matrix(1/data[1:,2]).T           # v[k+1]\n",
    "\n",
    "d_k_right = np.matrix(data[:DATA_LEN-1,3]).T\n",
    "d_k1_right = np.matrix(data[1:,3]).T\n",
    "v_k_right = np.matrix(1/data[:DATA_LEN-1,4]).T\n",
    "v_k1_right = np.matrix(1/data[1:,4]).T"
   ]
  },
  {
   "cell_type": "code",
   "execution_count": null,
   "metadata": {
    "collapsed": true
   },
   "outputs": [],
   "source": [
    "# Use this block to find the left wheel parameters\n",
    "d_k = d_k_left\n",
    "d_k1 = d_k1_left\n",
    "v_k = v_k_left\n",
    "v_k1 = v_k1_left"
   ]
  },
  {
   "cell_type": "code",
   "execution_count": null,
   "metadata": {
    "collapsed": true
   },
   "outputs": [],
   "source": [
    "# Use this block to find the right wheel parameters\n",
    "d_k = d_k_right\n",
    "d_k1 = d_k1_right\n",
    "v_k = v_k_right\n",
    "v_k1 = v_k1_right"
   ]
  },
  {
   "cell_type": "code",
   "execution_count": null,
   "metadata": {
    "collapsed": false
   },
   "outputs": [],
   "source": [
    "A = np.matrix(u_k)\n",
    "b = (d_k1 - d_k - 200*v_k)\n",
    "b1 = np.dot(np.dot(np.linalg.inv(np.dot(A.T, A)), A.T), b)[0,0]\n",
    "print('b1 = ' + str(b1))"
   ]
  },
  {
   "cell_type": "code",
   "execution_count": null,
   "metadata": {
    "collapsed": false
   },
   "outputs": [],
   "source": [
    "A = np.matrix(u_k)\n",
    "b = (v_k1 - v_k)\n",
    "b2 = np.dot(np.dot(np.linalg.inv(np.dot(A.T, A)), A.T), b)[0,0]\n",
    "print('b2 = ' + str(b2))"
   ]
  },
  {
   "cell_type": "markdown",
   "metadata": {},
   "source": [
    "To see how good the model is, try simulating the open loop model. The cells below takes the initial distance and velocity and plots the distance and velocity the model predicts. The result should be pretty bad compared to the actual data, but it's good enough to model the system - the feedback loop will (magically) take care of it!"
   ]
  },
  {
   "cell_type": "code",
   "execution_count": null,
   "metadata": {
    "collapsed": false
   },
   "outputs": [],
   "source": [
    "# Simulate velocity and distance with open loop model\n",
    "sim = np.zeros((2, DATA_LEN))\n",
    "sim[0,0] = d_k1[0]\n",
    "sim[1,0] = v_k1[0]\n",
    "\n",
    "# Open loop update matrices\n",
    "A = np.matrix([[1, Ts], [0, 1]])\n",
    "B = np.matrix([[b1], [b2]])\n",
    "\n",
    "for i in range(1, DATA_LEN):\n",
    "    sim[:,i] = (np.dot(A, np.matrix(sim[:,i-1]).T) + np.dot(B, np.matrix(u_k[i-1]).T)).T"
   ]
  },
  {
   "cell_type": "code",
   "execution_count": null,
   "metadata": {
    "collapsed": false
   },
   "outputs": [],
   "source": [
    "plt.plot(d_k1, 'black')\n",
    "plt.plot(d_k + Ts*v_k + b1*u_k, 'red')\n",
    "plt.plot(sim[0,:], 'blue')\n",
    "plt.xlabel('Time (samples)')\n",
    "plt.ylabel('distance (cm)')\n",
    "plt.legend(['collected data', 'least squares fit', 'simulated'], loc='center left', bbox_to_anchor=(1, 0.5))"
   ]
  },
  {
   "cell_type": "code",
   "execution_count": null,
   "metadata": {
    "collapsed": false
   },
   "outputs": [],
   "source": [
    "plt.plot(v_k1, 'black')\n",
    "plt.plot(v_k + b2*u_k, 'red')\n",
    "plt.plot(sim[1,:], 'blue')\n",
    "plt.xlabel('Time (samples)')\n",
    "plt.ylabel('velocity (cm/ms)')\n",
    "plt.legend(['collected data', 'least squares fit', 'simulated'], loc='center left', bbox_to_anchor=(1, 0.5))"
   ]
  },
  {
   "cell_type": "code",
   "execution_count": null,
   "metadata": {
    "collapsed": true
   },
   "outputs": [],
   "source": [
    "# Fill in your b1 and b2 values here\n",
    "b1_left = \n",
    "b2_left = \n",
    "b1_right = \n",
    "b2_right = "
   ]
  },
  {
   "cell_type": "markdown",
   "metadata": {},
   "source": [
    "Before we move on, find the eigenvalues of the matrix `A`."
   ]
  },
  {
   "cell_type": "code",
   "execution_count": null,
   "metadata": {
    "collapsed": false
   },
   "outputs": [],
   "source": [
    "print('A:')\n",
    "print(A)\n",
    "e = np.linalg.eig(A)\n",
    "print('eigenvalues:')\n",
    "print(e[0])\n",
    "print('eigenvectors:')\n",
    "print(e[1])"
   ]
  },
  {
   "cell_type": "markdown",
   "metadata": {},
   "source": [
    "<span style='color:red'>**What do the two eigenvalues tell you?**</span>\n",
    "\n",
    "YOUR ANSWER HERE"
   ]
  },
  {
   "cell_type": "markdown",
   "metadata": {},
   "source": [
    "<a id='part4'></a>\n",
    "## <span style=\"color:blue\">Part 4: Closed Loop Simulation and Modeling</span>\n",
    "\n",
    "###Materials\n",
    "- Part 3 setup"
   ]
  },
  {
   "cell_type": "markdown",
   "metadata": {},
   "source": [
    "Now that we have an open loop model, we can build a closed loop controller for each wheel. To simplify things, we will decouple the controller of the two wheels. However, your car will have a tough time going straight if the wheels have no idea what the other is doing, so the wheels will need to influence each other through the system inputs. The left wheel controller has 2 inputs, namely the right wheel distance and the desired velocity, while the right wheel controller has 2 inputs, namely the left wheel distance and the desired velocity.\n",
    "\n",
    "The diagram below shows the closed loop controller for the left wheel. The right wheel controller is symmetric.\n",
    "\n",
    "<center>\n",
    "<img width='550px' src=\"http://inst.eecs.berkeley.edu/~ee16b/fa15/lab_pics/proj-cl.png\">\n",
    "</center>\n",
    "\n",
    "Note that in our system we are able to sense both velocity and distance travelled, so our $C$ matrix is the 2x2 identity matrix.\n",
    "\n",
    "If you derive the closed loop $A_{CL}$, you will find the expression $A_{CL} = A - B\\alpha C = A - B\\alpha$.\n",
    "\n",
    "$$A_{CL} = \\begin{bmatrix} 1 - b_1\\alpha_1 & T_s - b_1\\alpha_2\\\\ -b_2\\alpha_1 & 1 - b_2\\alpha_2\\end{bmatrix}$$\n",
    "\n",
    "Where $b_{1(right/left)}$ and $b_{2(right/left)}$ are the values you found using least squares in the open loop system, and $\\alpha_1$and $\\alpha_2$ come from the controller $\\alpha=[ \\alpha_1 \\  \\alpha_2]$. "
   ]
  },
  {
   "cell_type": "markdown",
   "metadata": {},
   "source": [
    "The eigenvalues of $A_{CL}$ are dependent on $\\alpha$, so you need to choose the controller gains $\\alpha_1$ and $\\alpha_2$ such that your system is stable. However, it can be very difficult to choose gain values that will result in eigenvalues that are not only less than one, but also have desirable convergence properties. So, rather than choosing gain values and checking eigenvalues, we will choose eigenvalues which are stable. We will then solve for gain values in terms of those eigenvalues. To do this, we need an equation for the eigenvalues of $A_{CL}$ in terms of $b_1$, $b_2$, $\\alpha_1$ and $\\alpha_2$. To speed things up, we have provided the equations below. Read through them carefully to make sure that you understand the process.\n",
    "\n",
    "$$det(\\lambda_{CL} I - A_{CL}) = 0$$\n",
    "\n",
    "$$ (\\lambda_{CL} - 1 + b_1 \\alpha_1)(\\lambda_{CL} - 1 + b_2 \\alpha_2) - (-T_s+b_1\\alpha_2)(b_2\\alpha_1) = 0$$\n",
    "\n",
    "$$\\lambda_{CL}^2 + \\lambda_{CL}(b_1\\alpha_1+b_2\\alpha_2-2) + (1-b_1\\alpha_1 - b_2\\alpha_2 + Tsb_2\\alpha_1) = 0$$\n",
    "\n",
    "If we were to solve this equation using the quadratic formula, we would be able to re-write it in terms of our desired eigenvalues: $\\lambda_{d1}$ and $\\lambda_{d2}$. The equation would look something like:\n",
    "$$(\\lambda_{CL} - \\lambda_{d1})(\\lambda_{CL} - \\lambda_{d2}) = \\lambda_{CL}^2 - (\\lambda_{d1} + \\lambda_{d2}) \\lambda_{CL} + \\lambda_{d1} \\lambda_{d2} = 0$$\n",
    "\n",
    "We recognize the similar form of the equations above. So, rather than solving the ugly quadratic equation, we can just equate the terms. This results in the following system of 2 equations with 2 unknowns below. \n",
    "\n",
    "$$\\left\\{ \\begin{array}{ll}\n",
    "b_1\\alpha_1 + b_2\\alpha_2 - 2 = -\\lambda_{d1} - \\lambda_{d2} \\\\\n",
    "1 - b_1\\alpha_1 - b_2\\alpha_2 + T_sb_2\\alpha_1 = \\lambda_{d1} \\lambda_{d2}\n",
    "\\end{array}\\right.$$\n",
    "\n",
    "This is almost in an easy to work with form. However, it would be even better if we could get them into a form closer to $Ax = b$, where $x$ is the controller gains $\\alpha$, A is a matrix in terms of $b_1$, $b_2$, and $T_s$, and b is the closed loop eigenvalues. Rearranging variables, we get:\n",
    "\n",
    "$$\\left\\{ \\begin{array}{ll}\n",
    "b_1\\alpha_1 + b_2\\alpha_2 = 2 -\\lambda_{d1} - \\lambda_{d2} \\\\\n",
    "(T_sb_2 - b_1)\\alpha_1 - b_2\\alpha_2 = \\lambda_{d1} \\lambda_{d2} - 1\n",
    "\\end{array}\\right.$$\n",
    "\n",
    "Which we can write in matrix form as: \n",
    "\n",
    "$$\\begin{bmatrix}b_1 & b_2 \\\\ T_sb_2 - b_1 & -b_2 \\end{bmatrix} \\cdot \\begin{bmatrix}\\alpha_1 \\\\ \\alpha_2 \\end{bmatrix} = \\begin{bmatrix}2 -\\lambda_{d1} - \\lambda_{d2} \\\\\\lambda_{d1} \\lambda_{d2} - 1 \\end{bmatrix}$$\n",
    "\n",
    "We now have the gain values in terms of  $\\lambda_{d1}$ and $\\lambda_{d2}$ and known values. We can finally choose values for the eigenvalues, so we will choose ones that we know will result in a stable system. Then, we can solve for the controller gain values $\\alpha_1$ and $\\alpha_2$:\n",
    "\n",
    "$$\\begin{bmatrix}\\alpha_1 \\\\ \\alpha_2 \\end{bmatrix} = \\begin{bmatrix}b_1 & b_2 \\\\ T_sb_2 - b_1 & -b_2 \\end{bmatrix}^{-1} \\cdot \\begin{bmatrix}2 -\\lambda_{d1} - \\lambda_{d2} \\\\\\lambda_{d1} \\lambda_{d2} - 1 \\end{bmatrix}$$\n",
    "\n",
    "The cell below is written to perform the matrix inversion and solve for the controller gain values $\\alpha_1$ and $\\alpha_2$. That way, we can make python do all the algebra, and get gain values, just by choosing stable eigenvalues. The given code selects<b> -0.4 for both eigenvalues.</b>\n",
    "\n"
   ]
  },
  {
   "cell_type": "markdown",
   "metadata": {},
   "source": [
    "<span style='color:red'>**What response (in terms of convergence and overshoot) do you expect given this choice of eigenvalues? **</span>\n",
    "\n",
    "YOUR ANSWER HERE"
   ]
  },
  {
   "cell_type": "code",
   "execution_count": null,
   "metadata": {
    "collapsed": true
   },
   "outputs": [],
   "source": [
    "b1 = b1_left\n",
    "b2 = b2_left"
   ]
  },
  {
   "cell_type": "code",
   "execution_count": null,
   "metadata": {
    "collapsed": true
   },
   "outputs": [],
   "source": [
    "b1 = b1_right\n",
    "b2 = b2_right"
   ]
  },
  {
   "cell_type": "code",
   "execution_count": null,
   "metadata": {
    "collapsed": true
   },
   "outputs": [],
   "source": [
    "# Desired eigenvalues\n",
    "lambda_d1 = -.4\n",
    "lambda_d2 = lambda_d1\n",
    "\n",
    "# Solve for alpha1 and alpha2\n",
    "A = np.matrix([[b1, b2],[Ts*b2 - b1, -b2]])\n",
    "b = np.matrix([[2 - lambda_d1 - lambda_d2], [lambda_d1*lambda_d2 - 1]])\n",
    "x = np.dot(np.linalg.inv(A), b)\n",
    "\n",
    "alpha1 = x[0,0]\n",
    "alpha2 = x[1,0]\n",
    "\n",
    "print('alpha1: ' + str(alpha1))\n",
    "print('alpha2: ' + str(alpha2))"
   ]
  },
  {
   "cell_type": "markdown",
   "metadata": {},
   "source": [
    "Using the gain values that python solves for, simulate the closed loop model in the following cells.\n",
    "\n"
   ]
  },
  {
   "cell_type": "code",
   "execution_count": null,
   "metadata": {
    "collapsed": true
   },
   "outputs": [],
   "source": [
    "SIM_LENGTH = 200\n",
    "\n",
    "A = np.matrix([[1, Ts], [0, 1]])\n",
    "B = np.matrix([[b1], [b2]])\n",
    "alpha = np.matrix([alpha1, alpha2])\n",
    "\n",
    "x = np.zeros((2,SIM_LENGTH))\n",
    "x[1,0] = 0.0004\n",
    "const_vel = 0.05\n",
    "vd = np.ones((SIM_LENGTH,1))*const_vel\n",
    "dow = np.linspace(0,SIM_LENGTH*const_vel*Ts, SIM_LENGTH) # other wheel's distance travelled\n",
    "\n",
    "for i in range(0,SIM_LENGTH-1):\n",
    "    xd = [dow[i], vd[i]]\n",
    "    u = np.dot(alpha, np.subtract(xd, x[:,i]))[0,0]\n",
    "    x[:,i+1] = np.add(np.dot(A, np.matrix(x[:,i]).T), np.dot(B,u)).T"
   ]
  },
  {
   "cell_type": "code",
   "execution_count": null,
   "metadata": {
    "collapsed": false
   },
   "outputs": [],
   "source": [
    "print('A_CL:')\n",
    "A_CL = np.subtract(A, np.dot(B, alpha))\n",
    "print(A_CL)\n",
    "e = np.linalg.eig(A_CL)\n",
    "print('eigenvalues:')\n",
    "print(e[0])\n",
    "print('eigenvectors:')\n",
    "print(e[1])"
   ]
  },
  {
   "cell_type": "code",
   "execution_count": null,
   "metadata": {
    "collapsed": false
   },
   "outputs": [],
   "source": [
    "plt.plot(x[0,:].T)\n",
    "plt.plot(dow.T)\n",
    "plt.xlim([0,SIM_LENGTH-2])\n",
    "plt.legend(['simulation', 'desired'])"
   ]
  },
  {
   "cell_type": "code",
   "execution_count": null,
   "metadata": {
    "collapsed": false
   },
   "outputs": [],
   "source": [
    "plt.plot(x[1,:].T)\n",
    "plt.plot(vd)\n",
    "plt.xlim([0,SIM_LENGTH-2])\n",
    "plt.legend(['simulation', 'desired'])"
   ]
  },
  {
   "cell_type": "markdown",
   "metadata": {
    "collapsed": true
   },
   "source": [
    "Repeat the cells above, for both wheels (since they have different dynamics) by setting the values of `b1` and `b2` appropriately in the first cell. Note down the alpha values for both the left and right wheels; you will need to copy these into the Launchpad code."
   ]
  },
  {
   "cell_type": "markdown",
   "metadata": {},
   "source": [
    "Now implement the controller in the Launchpad. The sketch <b>`closed_loop.ino`</b> contains some code that implements the closed loop control such that the SIXT33N goes at a fixed speed. \n",
    "\n",
    "<b>In the code, fill in the controller gain `alpha1_left`, `alpha2_left`, `alpha1_right` and `alpha2_right` around line 40.</b>\n",
    "\n",
    "Upload the sketch to your Launchpad. Your car wheels are going to move in this step, too. Make sure that the car is suspended above the desk.\n",
    "\n"
   ]
  },
  {
   "cell_type": "markdown",
   "metadata": {},
   "source": [
    "<span style='color:red'>**What do you observe? Is it consistent with the simulation? Why does it move that way?**</span>\n",
    "\n",
    "YOUR ANSWER HERE"
   ]
  },
  {
   "cell_type": "markdown",
   "metadata": {},
   "source": [
    "You might observe some strange behavior. You should be able to go back through the code and the simulation and pinpoint why this happened.\n",
    "\n",
    "Now <b>change the desired eigenvalue to be 0.95</b> instead of -0.4. Go back to the cells above and re-execute them to get the alpha values for both wheels. Simulate them to see the response."
   ]
  },
  {
   "cell_type": "markdown",
   "metadata": {},
   "source": [
    "<span style='color:red'>**What response (in terms of convergence and overshoot) do you expect given an eigenvalue of 0.95? **</span>\n",
    "\n",
    "YOUR ANSWER HERE"
   ]
  },
  {
   "cell_type": "markdown",
   "metadata": {},
   "source": [
    "Change the controller gains in the Launchpad to reflect the new eigenvalue and reupload the code. First try it out on the bench - remember to suspend the car so it doesn't fly off the bench. Add some friction to the wheels by touching your palm on the wheels. Does it behave as expected?\n",
    "\n",
    "<b>Because each car has its own little sources of friction and error, it is very likely that you will have to experiment with different eigenvalues and gain magnitudes.</b> Tweak the alpha values if needed.\n",
    "\n",
    "Once you are satisfied that your motors work and your closed loop is implemented, put the car on the ground. Click the reset button, the SIXT33N should go in a straight line at a constant speed. Does it behave how you expect? You need to see this behavior for at least the first 5 seconds.\n",
    "\n",
    "If it behaves erroneously (for example the controller oscillates), go back to the simulation and try different eigenvalues. This is an artifact of using a linear model as an approximation of the system and can be solved by picking a more suitable controller gain."
   ]
  }
 ],
 "metadata": {
  "kernelspec": {
   "display_name": "Python 3",
   "language": "python",
   "name": "python3"
  },
  "language_info": {
   "codemirror_mode": {
    "name": "ipython",
    "version": 3
   },
   "file_extension": ".py",
   "mimetype": "text/x-python",
   "name": "python",
   "nbconvert_exporter": "python",
   "pygments_lexer": "ipython3",
   "version": "3.4.3"
  }
 },
 "nbformat": 4,
 "nbformat_minor": 0
}
