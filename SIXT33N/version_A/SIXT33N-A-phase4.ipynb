{
 "cells": [
  {
   "cell_type": "markdown",
   "metadata": {},
   "source": [
    "# SIXT33N version A\n",
    "## Phase 4: Integration\n",
    "\n",
    "### EE 16B: Designing Information Devices and Systems II, Fall 2015"
   ]
  },
  {
   "cell_type": "markdown",
   "metadata": {},
   "source": [
    "**Name 1**:\n",
    "\n",
    "**Login**: ee16b-\n",
    "\n",
    "\n",
    "**Name 2**:\n",
    "\n",
    "**Login**: ee16b-"
   ]
  },
  {
   "cell_type": "markdown",
   "metadata": {},
   "source": [
    "\n",
    "##Table of Contents\n",
    "\n",
    "* [Introduction](#intro)\n",
    "* [Integration](#part1)\n",
    "* [Final Demo and Writeup](#part2)"
   ]
  },
  {
   "cell_type": "markdown",
   "metadata": {},
   "source": [
    "<a id='intro'></a>\n",
    "## Introduction\n",
    "\n",
    "Now you are in your last steps! The SIXT33N has slowly been taking shape - all you need to do now is to put everything together in a single Launchpad sketch. As a reminder, the objective is to get the SIXT33N to move straight at varying speeds. The SIXT33N will try to get away from a genre and go toward another. This means when genre 1 is louder, SIXT33N will move fast (it tries to get away from the source). When genre 1 is quieter, SIXT33N will move slower. Alternatively, SIXT33N will move slow when genre 2 is loud and fast when it is quiet (it tries to move towards the source and stay there)."
   ]
  },
  {
   "cell_type": "markdown",
   "metadata": {},
   "source": [
    "<a id='part1'></a>\n",
    "##<span style=\"color:blue\">Integration</span>"
   ]
  },
  {
   "cell_type": "markdown",
   "metadata": {},
   "source": [
    "Everything you work on in this phase will be in the sketch `integration.ino`, which is your final sketch for the SIXT33N. Open the sketch - we will quickly walk through the sketch. As we go through it, fill in sections labelled `YOUR CODE HERE` as instructed."
   ]
  },
  {
   "cell_type": "markdown",
   "metadata": {},
   "source": [
    "###Encoder Pins\n",
    "\n",
    "The top of the sketch contains some constant and variable definitions. We start with defining pins. The choice of these pins (especially the encoder pins) are embedded in the actual code, so if pins 2.4 or 1.4 got burned at some point in the semester, now is the time to flag down your GSI. They will help you modify the important part of the sketch.\n",
    "\n",
    "###PCA Vectors\n",
    "\n",
    "In the main body of the sketch, the code defines 2 modes: `MODE_LISTEN` and `MODE_DRIVE`. We can look at the 2 modes and see what they are doing. \n",
    "\n",
    "In `MODE_LISTEN`, the SIXT33N listens to the music and tries to classify the genre. The Launchpad will repeatedly record some samples and take the FFT. If the Launchpad sucessfully classifies a genre then it will enter `MODE_DRIVE`.\n",
    "\n",
    "Go to the section labelled \"PCA variables/constants\". Again, <b>use your phase 2 results to fill in the arrays.</b> If you did not need to use zero-meaning for your PCA you can leave the `pca_mean` vector as `{0}`. We have already provided code that does the projection in the main loop of the sketch.\n",
    "\n",
    "###Wheel Control \n",
    "\n",
    "In `MODE_DRIVE`, the SIXT33N executes the closed loop control. Depending on the loudness and the genre that was classified, it will set a desired speed and then go straight at that speed.\n",
    "\n",
    "The code declares variables for the closed loop control in the section marked \"Controller gain\". <b>Add your controller gain values for the left and right wheels you found in phase 3.</b> We have also provided the code that takes care of the closed loop control.\n",
    "\n",
    "###Classification\n",
    "Next, you need to modify the PCA data processing, projection, and classification. Inside the function `loop()`, around line 150 in the section marked `YOUR CODE HERE`, <b>add your PCA processing and projection code from phase 2.</b> The data you have is in the same format as that of phase 2 - the `re` and `im` arrays. \n",
    "\n",
    "<b>Fill in the next `YOUR CODE HERE` block for the classification.</b> The first `if` statement should be the classification for the genre the SIXT33N tries to escape from while the second `if` statement should be for the genre it tries to get closer to. You are welcome to modify and use more variables if you require multiple decisions before committing to a genre. We strongly advise that you only edit code between the `YOUR CODE HERE` and the `END OF YOUR CODE HERE` comments.\n",
    "\n",
    "\n",
    "###Speed Selection\n",
    "\n",
    "We have one last step: we need to calibrate the loudness, since the code is very sensitive to loudness range and each microphone circuit has slightly different gains. First, upload the sketch you modified and run it. It will print the loudness in an arbitrary scale (from some result of low-pass filtering) in the serial monitor. Record the loudness when the speaker is around 20cm away and the music is playing decently loud, then reduce the volume of the speakers and record the loudness value. <b>Add these numbers to the section near the top of the sketch labelled \"Loudness variables\" in the variables `MIN_LOUDNESS` and `MAX_LOUDNESS`.</b> The constants are currently set to 1500 and 6500, which should be close to the values you got.\n",
    "\n",
    "Lastly, around line 140, you have the following code:\n",
    "\n",
    "<code>Serial.print(\"loudness: \");\n",
    "Serial.println(loudness);\n",
    "//if (loudness < MIN_LOUDNESS) loudness = MIN_LOUDNESS;\n",
    "//if (loudness > MAX_LOUDNESS) loudness = MAX_LOUDNESS;\n",
    "</code>\n",
    "\n",
    "Comment out the first 2 lines and uncomment the last 2 lines so you have the following:\n",
    "\n",
    "<code>//Serial.print(\"loudness: \");\n",
    "//Serial.println(loudness);\n",
    "if (loudness < MIN_LOUDNESS) loudness = MIN_LOUDNESS;\n",
    "if (loudness > MAX_LOUDNESS) loudness = MAX_LOUDNESS;\n",
    "</code>"
   ]
  },
  {
   "cell_type": "markdown",
   "metadata": {},
   "source": [
    "That's it! You should be set. Now load the sketch into your Launchpad and make sure your Launchpad's 5V pin is connected to the voltage regulator output. If you forgot the pins you should attach to the motors and encoders, you can find them in the define statements in the top of the Launchpad sketch. If your car doesn't have as much drive as before, you might need to change to fresh batteries - check the voltage of your battery using the Digital Multimeter and if it is considerably less than 9V ask for fresh ones.\n",
    "\n",
    "Put your car on the floor and try playing some music to it! Hopefully, it can classify both genres correctly and move in a straight line at different speeds.\n",
    "\n",
    "Did it work? If not, you might still need to tweak your control parameters. If it did work: time to celebrate!"
   ]
  },
  {
   "cell_type": "markdown",
   "metadata": {},
   "source": [
    "<a id='part2'></a>\n",
    "##<span style=\"color:blue\">Final Demo and Writeup</span>"
   ]
  },
  {
   "cell_type": "markdown",
   "metadata": {},
   "source": [
    "Congratulations - You're done! If you have some time, be creative and try to add a functionality to the SIXT33N! Don't hesitate to ask for your GSI's help when you want to modify the Launchpad sketch since it is more complicated than previous sketches. \n",
    "\n",
    "###Demo\n",
    "During the final demo on Thursday (12/10), you will bring your SIXT33N and show Elad and the GSIs your project. In the checkoff station, you will find the 2 songs/genres that you want to play on Youtube. We will have speakers set up on the floor facing an open area and you will place the SIXT33N first facing away, showing that the closer you are to the speaker the faster it moves with genre 1. Then you will place the SIXT33N farther away facing the speaker and show that if you play genre 2 it slows down as it gets closer to the speaker. You should also prepare to talk and answer questions about your PCA code and what you did to process the data to classify the genres. \n",
    "\n",
    "###Writeup\n",
    "Don't forget to write up your circuit design in phase 2. The writeup will be 1 page that you will hand in during the final demos. The writeup should hit these topics:\n",
    "\n",
    "Page 1 : \n",
    "- Explain your design process and your final process\n",
    "- What genres did you try, and why? Which worked, which didn't? Why? \n",
    "- What problems did you run into and how did you solve them? \n",
    "- What was your final PCA accuracy? Did you do anything to improve the classification after PCA was made as accurate as possible?\n",
    "- What did you learn from this process? What changes might you make if you were to do this again?\n"
   ]
  }
 ],
 "metadata": {
  "kernelspec": {
   "display_name": "Python 3",
   "language": "python",
   "name": "python3"
  },
  "language_info": {
   "codemirror_mode": {
    "name": "ipython",
    "version": 3
   },
   "file_extension": ".py",
   "mimetype": "text/x-python",
   "name": "python",
   "nbconvert_exporter": "python",
   "pygments_lexer": "ipython3",
   "version": "3.4.3"
  }
 },
 "nbformat": 4,
 "nbformat_minor": 0
}
