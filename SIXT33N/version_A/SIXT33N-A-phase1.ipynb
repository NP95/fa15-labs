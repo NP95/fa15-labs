{
 "cells": [
  {
   "cell_type": "markdown",
   "metadata": {},
   "source": [
    "# SIXT33N version A \n",
    "## Phase 1: Microphone Front End and Signal Processing\n",
    "\n",
    "### EE 16B: Designing Information Devices and Systems II, Fall 2015"
   ]
  },
  {
   "cell_type": "markdown",
   "metadata": {},
   "source": [
    "**Name 1**:\n",
    "\n",
    "**Login**: ee16b-\n",
    "\n",
    "\n",
    "**Name 2**:\n",
    "\n",
    "**Login**: ee16b-"
   ]
  },
  {
   "cell_type": "markdown",
   "metadata": {},
   "source": [
    "\n",
    "##Table of Contents\n",
    "\n",
    "* [Introduction](#intro)\n",
    "* [Part 1: Microphone Front End](#part1)\n",
    "* [Part 2: FFT Data Collection](#part2)"
   ]
  },
  {
   "cell_type": "markdown",
   "metadata": {},
   "source": [
    "<a id='intro'></a>\n",
    "## Introduction\n",
    "\n",
    "To enable the SIXT33N to recognize certain genres, it will need a microphone ciruit to pick up the music and do some circuit signal processing before the music is sampled by the Launchpad ADC. This processing includes applying some gain and filtering higher frequencies to avoid aliasing. Once the signal is sampled, the Launchpad will perform an FFT so that the music an be analyzed in the frequency domain. Finally the data will be streamed back to a PC to be used in the next phase.\n",
    "\n",
    "The goals of this phase are as follows:\n",
    "- Build provided circuit schematic\n",
    "- Read ADC output in PC\n",
    "- FFT on Launchpad\n",
    "- Read FFT result in PC\n",
    "- Record data for next phase"
   ]
  },
  {
   "cell_type": "markdown",
   "metadata": {},
   "source": [
    "<a id='part1'></a>\n",
    "##<span style=\"color:blue\">Part 1: Microphone Front End</span>\n",
    "\n",
    "###Materials\n",
    "- Opamps\n",
    "- Resistors + Potentiometer\n",
    "- Capacitors\n",
    "- 1 Electret Microphone\n",
    "- Power supply + cables\n",
    "- Oscilloscope + probe"
   ]
  },
  {
   "cell_type": "markdown",
   "metadata": {},
   "source": [
    "The SIXT33N will run on a 9V battery regulated to 5V, but start by using the benchtop power supply. Set your breadboard up with a 5V and a ground rail on both sides (note that you do not have a -5V rail). <b>You will not be able to fit extra breadboards on the car.</b> Make sure to leave some space on both sides of the breadboard for the voltage regulator, motor driver and wheel encoder circuits in the later phases.\n",
    "\n",
    "<b>KEEP YOUR CIRCUIT NEAT!</b> That goes without saying :)"
   ]
  },
  {
   "cell_type": "markdown",
   "metadata": {},
   "source": [
    "We have designed the microphone front end for you, shown below. It looks quite complicated, but we will walk through it so you understand how it works.\n",
    "\n",
    "<img style=\"width:700px\" src=\"http://inst.eecs.berkeley.edu/~ee16b/fa15/lab_pics/proj-fe.png\">"
   ]
  },
  {
   "cell_type": "markdown",
   "metadata": {},
   "source": [
    "###Voltage Divider\n",
    "\n",
    "We will begin with a component in the circuit that you have never seen before; the resistor with the arrow is a symbol for a potentiometer. The potentiometer has 3 terminals. Think of the top two terminals as one resistor and the bottom two as a a second resistor. The two resistors must add up to 50k$\\Omega$, but by turning the knob, you can make the first resistor large and the second small, or vice versa.\n",
    "\n",
    "<img style=\"width:120px\" src=\"http://inst.eecs.berkeley.edu/~ee16b/fa15/lab_pics/pot.png\">\n",
    "\n",
    "There are 2 ways potentiometers are usually used: as a voltage divider (all 3 terminals used) or as a variable resistor (only top or bottom resistor used). When you use the potentiometer for the microphone circuit above you are using it as a voltage divider.\n",
    "\n",
    "\n",
    "<img style=\"width:200px\" src=\"http://inst.eecs.berkeley.edu/~ee16b/fa15/lab_pics/proj-v-div.png\">\n",
    "\n",
    "\n",
    "Build the voltage divider shown above with the potentiometer and 3 1M$\\Omega$ resistors."
   ]
  },
  {
   "cell_type": "markdown",
   "metadata": {},
   "source": [
    "**<span style=\"color:red\">What is the maximum and minimum DC voltage that this divider can output?</span>** (When you are done testing, leave the voltage at 1.6V.)"
   ]
  },
  {
   "cell_type": "markdown",
   "metadata": {},
   "source": [
    "###Microphone\n",
    "\n",
    "Let's examine and build the microphone part of this circuit next.\n",
    "\n",
    "The electret microphone (the capacitor with a circle around it) acts like a variable current source, just like the solar cell in the imaging lab in EE16A. <b>Note that the microphone is polarized</b> - the pin with the 3 metal lines is the ground pin.\n",
    "\n",
    "To turn the variable current into a voltage output, you need a resistor connected to a power source, as shown below.\n",
    "\n",
    "<img style=\"width:200px\" src=\"http://inst.eecs.berkeley.edu/~ee16b/fa15/lab_pics/proj-mic-no-bias.png\">\n",
    "\n",
    "Before you start this circuit, <b>solder two short wires to your microphone</b> because the leads are too small for the breadboard. Please be careful. Once finished, wire up the microphone circuit very close to the voltage divider you just built. Use the oscilloscope to look at the microphone output."
   ]
  },
  {
   "cell_type": "markdown",
   "metadata": {},
   "source": [
    "**<span style=\"color:red\">What is the maximum and minimum peak-to-peak voltage that this microphone can output?</span>** "
   ]
  },
  {
   "cell_type": "markdown",
   "metadata": {},
   "source": [
    "Next, place a 1$\\mu$F capacitor between the output of the microphone circuit and the voltage divider. This serves two purposes. First, the capacitor and the resistors from the resistive divider form a high pass filter with a very low cutoff frequency. Second, the voltage divider adds a level shift that we can control with the potentiometer.\n",
    "\n",
    "**<span style=\"color:red\">Make sure that the output of the microphone behaves as expected.</span>**"
   ]
  },
  {
   "cell_type": "markdown",
   "metadata": {},
   "source": [
    "###Gain stage\n",
    "\n",
    "The next part of this circuit is the op-amp gain stage. \n",
    "\n",
    "<img style=\"width:300px\" src=\"http://inst.eecs.berkeley.edu/~ee16b/fa15/lab_pics/proj-amp.png\">\n",
    "\n",
    "The circuit above might look complex, but you are already familiar with all the parts of this op-amp topology. The op-amp (with the resistive divider from before) is just an adder, difference and active low pass filter, all shoved together. \n",
    "\n",
    "Adder/difference: The 1k$\\Omega$ and 2k$\\Omega$ resistors shift the DC level of the output to keep it at 1.6V. \n",
    "\n",
    "Gain: The 100k$\\Omega$ resistor in feedback with that resistive divider produces a large gain.\n",
    "\n",
    "Filtering: The capacitor in feedback creates a low pass filter. Intuitively, the capacitor is a short at very high frequencies and this op-amp circuit becomes a buffer. At very low frequencies, the capacitor is an open circuit, so we are left with the regular non-inverting amplifier topology. Thus, we get a pole at a desired frequency and a zero at a large frequency with -20dB/decade rolloff inbetween.\n",
    "\n",
    "Build the op-amp circuit. <b>Test that it works with your function generator as an input first.</b>\n",
    "\n",
    "Next, try connecting in the microphone output. <b>Note that your output might run into one of the rails. Try turning your potentiometer before you get too worried that it isn't working.</b>"
   ]
  },
  {
   "cell_type": "markdown",
   "metadata": {},
   "source": [
    "**<span style=\"color:red\">What is the maximum and minimum DC voltage that this microphone can output after the op-amp stage?</span>** (Try turning the potentiometer.)\n",
    "\n",
    "**<span style=\"color:red\">What is the maximum and minimum peak-to-peak voltage that this microphone can output after the op-amp stage?</span>** \n"
   ]
  },
  {
   "cell_type": "markdown",
   "metadata": {},
   "source": [
    "### Filter and Buffer\n",
    "\n",
    "Lastly, we add a passive low-pass filter on the output of the circuit you have built so far. \n",
    "\n",
    "<img style=\"width:350px\" src=\"http://inst.eecs.berkeley.edu/~ee16b/fa15/lab_pics/proj-rc-buff.png\">\n",
    "\n",
    "This provides a total of -40dB/decade rolloff in the middle frequencies. \n",
    "\n",
    "We buffer that filter with a special 3.3V buffer. Since the Launchpad requires a 0V to 3.3V in its inputs, we want to prevent any spikes in sound from producing large voltages on the output. To enforce a 3.3V max output, we will power this op-amp with 3.3V from the Launchpad. <b>You have to use a separate power source for the buffer, so you will use a separate op-amp chips with a different supply voltage (the 3.3V pin in your Launchpad). </b>"
   ]
  },
  {
   "cell_type": "markdown",
   "metadata": {},
   "source": [
    "**<span style=\"color:red\">Try yelling at your microphone, verify that the output does not surpass 3.3V.</span>** \n",
    "\n",
    "**<span style=\"color:red\">What is the DC level of your output? Tune the output with the potentiometer so that it is centered at 1.6V.</span>** "
   ]
  },
  {
   "cell_type": "markdown",
   "metadata": {},
   "source": [
    "You now have the finished circuit! Probe the output node using an oscilloscope to see output waveform. You can use a <a href=\"http://plasticity.szynalski.com/tone-generator.htm\">tone generator</a> to test your circuit at different frequencies."
   ]
  },
  {
   "cell_type": "markdown",
   "metadata": {},
   "source": [
    "**<span style=\"color:red\">Show your output voltage to your GSI.</span>** Make sure the DC bias is around 1.65V and it has a high gain (the signal peak-to-peak is large when a loud sound is heard)."
   ]
  },
  {
   "cell_type": "markdown",
   "metadata": {},
   "source": [
    "###Voltage Regulator\n",
    "\n",
    "We finish off with adding a voltage regulator circuit. The SIXT33N will run off of a 9V battery. In order to get a 5V source on the robot you need to add a voltage regulator circuit. The <a href=\"http://www.ti.com/lit/ds/symlink/lm340-n.pdf\">LM34015</a> is a voltage regulator that outputs around 5V. Glance through the datasheet to find the pin diagram. Use the power supply at 9V as the input and connect the output to the VDD rails of your breadboard. Don't forget to connect the ground of the regulator with the ground of the breadboard. Add 2 capacitors (use 1 $\\mu$F or 100nF capacitors) as in the schematic below.\n",
    "\n",
    "<center><img src=\"http://inst.eecs.berkeley.edu/~ee16b/fa15/lab_pics/proj-vol-reg.jpg\"></center>\n",
    "\n",
    "**<span style=\"color:red\">Use your multimeter to check that the output of your regulator is 5V.</span>** \n",
    "\n",
    "Once you are sure the output is behaving as you expect, use the 5V output to power your microphone circuit. Make sure that the output still behaves as before."
   ]
  },
  {
   "cell_type": "markdown",
   "metadata": {},
   "source": [
    "<a id='part2'></a>\n",
    "##<span style=\"color:blue\">Part 2: FFT Data Collection</span>\n",
    "\n",
    "###Materials\n",
    "- Part 1 setup\n",
    "- Launchpad + USB cable"
   ]
  },
  {
   "cell_type": "markdown",
   "metadata": {
    "collapsed": true
   },
   "source": [
    "Since your goal is to identify musical genres, you probably want to inspect the frequency content of the signals you record. But before you do this, first make sure that the ADC works properly by uploading <b>`adc_read.ino`</b> to the Launchpad and connecting pin 6.0 to the output of your circuit and the ground of the Launchpad to the ground of your circuit. Then, from the command line, run <b>`python adc_read.py -D COM###`</b>, substituting `###` with the proper number from Device Manager. This code samples the ADC every 3ms. We will use a higher sampling rate soon, but for now make sure the plot of the ADC output looks reasonable."
   ]
  },
  {
   "cell_type": "markdown",
   "metadata": {},
   "source": [
    "Now upload <b>`collect-data-music.ino`</b> to the Launchpad and run <b>`python collect-data.py log.csv`</b> (you can change the output csv filename). This sketch and script samples the ADC every 0.35ms (what is the sampling frequency?) and computes the FFT after it gathers 128 samples on the Launchpad. Read through the sketch code to figure out the format of the data streamed back to the PC - this will be important for you in the next phase since you will be using this sketch to gather the data you need for your PCA."
   ]
  }
 ],
 "metadata": {
  "kernelspec": {
   "display_name": "Python 3",
   "language": "python",
   "name": "python3"
  },
  "language_info": {
   "codemirror_mode": {
    "name": "ipython",
    "version": 3
   },
   "file_extension": ".py",
   "mimetype": "text/x-python",
   "name": "python",
   "nbconvert_exporter": "python",
   "pygments_lexer": "ipython3",
   "version": "3.4.3"
  }
 },
 "nbformat": 4,
 "nbformat_minor": 0
}
