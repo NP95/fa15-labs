{
 "cells": [
  {
   "cell_type": "markdown",
   "metadata": {},
   "source": [
    "# SIXT33N version C\n",
    "## Phase 4: Integration\n",
    "\n",
    "### EE 16B: Designing Information Devices and Systems II, Fall 2015"
   ]
  },
  {
   "cell_type": "markdown",
   "metadata": {},
   "source": [
    "**Name 1**:\n",
    "\n",
    "**Login**: ee16b-\n",
    "\n",
    "\n",
    "**Name 2**:\n",
    "\n",
    "**Login**: ee16b-"
   ]
  },
  {
   "cell_type": "markdown",
   "metadata": {},
   "source": [
    "\n",
    "##Table of Contents\n",
    "\n",
    "* [Introduction](#intro)\n",
    "* [Integration](#part1)\n",
    "* [Final Demo and Writeup](#part2)"
   ]
  },
  {
   "cell_type": "markdown",
   "metadata": {},
   "source": [
    "<a id='intro'></a>\n",
    "## Introduction\n",
    "\n",
    "Now you are in your last steps! The SIXT33N has slowly been taking shape - all you need to do now is to put everything together in a single Launchpad sketch. As a reminder, the objective is to get the SIXT33N to move according to some mouse gestures drawn in the host PC."
   ]
  },
  {
   "cell_type": "markdown",
   "metadata": {},
   "source": [
    "<a id='part1'></a>\n",
    "##<span style=\"color:blue\">Integration</span>"
   ]
  },
  {
   "cell_type": "markdown",
   "metadata": {},
   "source": [
    "###Encoder Pins\n",
    "\n",
    "The top of the sketch contains some constant and variable definitions. We start with defining pins. The choice of these pins (especially the encoder pins) are embedded in the actual code, so if pins 2.4 or 1.4 got burned at some point in the semester, now is the time to flag down your GSI. They will help you modify the important part of the sketch.\n",
    "\n",
    "\n",
    "###Closed Loop Control\n",
    "\n",
    "Next, the code declares variables for the closed loop control. In the section marked \"Controller gain\" <b>add your controller gain values for the left and right wheels you found in phase 3.</b> We have also provided the code that takes care of the basic closed loop control that will drive the car in a straight line. If you need other variables in your control loop, declare them here.\n",
    "\n",
    "There are two sections you need to modify for the controls. Firstly, inside the function `loop()`, around line 195 in the sections marked `YOUR CODE HERE`, <b>add code to control the movement of the SIXT33N.</b> We have provided most of the functionality of a helper function `wheel_drive` which resets all counters and sets the new desired wheel speeds. Fill in the arguments to the function call to set the desired wheel speeds and add any new variables that you need to implement turns. \n",
    "\n",
    "Make sure that the code you implemented can move the car in \"straight\" or \"turning\" direction before you add any more functionality.\n",
    "\n",
    "Next, <b>fill in the last `YOUR CODE HERE` block around line 170.</b> This provides the input $u[k]$ to the closed loop system - you should have similar code from phase 3. Use the variables `alpha1_left`, `alpha2_left`, `alpha1_right`, `alpha2_right`, `left_position`, `right_position`, `left_target_speed`, `right_target_speed`, `left_current_speed` and `right_current_speed` in the two function calls to `input_left` and `input_right`.\n",
    "\n",
    "Note: You should get the first 4 commands working well before moving on to the 5th command (\"Party Mode\")."
   ]
  },
  {
   "cell_type": "markdown",
   "metadata": {},
   "source": [
    "That's it! You should be set for the Launchpad code. Now load the sketch into your Launchpad and make sure your Launchpad's 5V pin is connected to the voltage regulator output. If you forgot the pins you should attach to the motors and encoders, you can find them in the define statements in the top of the Launchpad sketch. If your car doesn't have as much drive as before, you might need to change to fresh batteries - check the voltage of your battery using the Digital Multimeter and if it is considerably less than 9V ask for fresh ones.\n",
    "\n",
    "Open the file <b>`capture_and_transmit.py`</b> and add your PCA vectors near the top of the script. Next, copy the `classify` function from phase 2 that returns the string describing the gesture as found in the bottom of the script (\"up\", \"down\", \"left\", \"right\", \"circle\"). Lastly, run the script from the command line and draw gestures on the canvas. The script will transmit a 500Hz audio signal to be picked up by the SIXT33N. It might help to put the speakers on the ground so it is closer to the SIXT33N.\n",
    "\n",
    "Hopefully, SIXT33N can move in a straight line at different speeds and turn when you tell it to.\n",
    "\n",
    "Did it work? If not, you might still need to tweak your control parameters. If it did work: time to celebrate!"
   ]
  },
  {
   "cell_type": "markdown",
   "metadata": {},
   "source": [
    "<a id='part2'></a>\n",
    "##<span style=\"color:blue\">Final Demo and Writeup</span>"
   ]
  },
  {
   "cell_type": "markdown",
   "metadata": {},
   "source": [
    "Congratulations - You're done! If you have some time, be creative and try to add a functionality to the SIXT33N! Don't hesitate to ask for your GSI's help when you want to modify the Launchpad sketch since it is more complicated than previous sketches. \n",
    "\n",
    "###Demo\n",
    "During the final demo on Thursday (12/10), you will bring your SIXT33N and show Elad and the GSIs your project. We will have speakers on the ground set up. Bring your <b>`capture_and_transmit.py`</b> script and load it in the checkoff station. Run it in the command line and draw gestures, showing the SIXT33N moving as expected. You should also prepare to bring your controller diagram from phase 3 and explain how your control system implements turns. You might also get some questions from the staff.\n",
    "\n",
    "###Writeup\n",
    "Don't forget to write up your circuit design in phase 2. The writeup will be 1 page that you will hand in during the final demos. The writeup should hit these topics:\n",
    "\n",
    "Page 1 : \n",
    "- Explain your design process and your final process\n",
    "- What problems did you run into and how did you solve them? \n",
    "- Include a neat block diagram of your control system.\n",
    "- Focus on the original closed loop that drives the SIXT33N straight, how you modified it to turn, and the process of choosing the controller gain.\n",
    "- What did you learn from this process? What changes might you make if you were to do this again?"
   ]
  }
 ],
 "metadata": {
  "kernelspec": {
   "display_name": "Python 3",
   "language": "python",
   "name": "python3"
  },
  "language_info": {
   "codemirror_mode": {
    "name": "ipython",
    "version": 3
   },
   "file_extension": ".py",
   "mimetype": "text/x-python",
   "name": "python",
   "nbconvert_exporter": "python",
   "pygments_lexer": "ipython3",
   "version": "3.4.3"
  }
 },
 "nbformat": 4,
 "nbformat_minor": 0
}
