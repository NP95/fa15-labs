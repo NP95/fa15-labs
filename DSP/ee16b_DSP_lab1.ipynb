{
 "cells": [
  {
   "cell_type": "markdown",
   "metadata": {},
   "source": [
    "# DSP Lab 1: Analog-Digital Circuit Interface\n",
    "\n",
    "### EE 16B: Designing Information Devices and Systems II, Fall 2015"
   ]
  },
  {
   "cell_type": "markdown",
   "metadata": {},
   "source": [
    "**Name 1**:\n",
    "\n",
    "**Login**: ee16b-\n",
    "\n",
    "\n",
    "**Name 2**:\n",
    "\n",
    "**Login**: ee16b-"
   ]
  },
  {
   "cell_type": "markdown",
   "metadata": {},
   "source": [
    "\n",
    "##Table of Contents\n",
    "\n",
    "* [Introduction](#intro)\n",
    "* [Task 1: MSP430 Launchpad](#task1)\n",
    "* [Task 2: 4-bit Digital to Analog Converter (DAC)](#task2)\n",
    "* [Task 3: 4-bit Analog to Digital Converter (ADC)](#task3)\n",
    "* [Task 4: 8-bit Analog to Digital Converter (ADC)](#task4)"
   ]
  },
  {
   "cell_type": "markdown",
   "metadata": {},
   "source": [
    "<a id='intro'></a>\n",
    "## Introduction\n",
    "Welcome to the second module - Digital Signal Procesing! We will begin this module by exploring the circuit interface between discrete and continuous systems. While the \"natural\" world we interact with is analog (your height is not quantized!), our computers work in the digital domain (laptops process values in bits, not in continuous voltage levels). If we want to interface our computer with the \"natural\" world we need to have a mechanism to get a digital signal from an analog signal and an analog signal from a digital signal.\n",
    "\n",
    "<img style=\"width: 500px\" src=\"http://inst.eecs.berkeley.edu/~ee16b/fa15/lab_pics/adc-dac.png\">\n",
    "\n",
    "<a id='overview'></a>\n",
    "### Lab Overview\n",
    "This week we will build both a Digital to Analog Converter (DAC) and an Analog to Digital Converter (ADC). Next week we will explore digital circuits, especially how clocking works. We will then build our own Signal Conditioning block for our BMI interface in the next module. \n",
    "\n",
    "<b>The materials for both this module and the next module will be distributed by your GSI. Please bring these materials every time you have a lab. This lab contains multiple checkoffs - after each of tasks 2, 3 and 4, you need to be checked off by either a GSI or a lab assistant.</b>"
   ]
  },
  {
   "cell_type": "markdown",
   "metadata": {},
   "source": [
    "<a id='task1'></a>\n",
    "##<span style=\"color:blue\">Task 1: MSP430 Launchpad</span>\n",
    "\n",
    "###Materials\n",
    "- MSP430 Launchpad + USB cable"
   ]
  },
  {
   "cell_type": "markdown",
   "metadata": {},
   "source": [
    "This semester we will be using the <a href=\"http://www.ti.com/ww/en/launchpad/launchpads-msp430-msp-exp430f5529lp.html#tabs\">TI MSP430F5529 Launchpad</a> for our labs. The development board includes the <a href=\"http://www.ti.com/lit/ds/symlink/msp430f5514.pdf\">MSP430F5529 microcontroller</a>, which functions just like the Arduino we used last semester.\n",
    "\n",
    "<img style=\"width: 400px\" src=\"http://inst.eecs.berkeley.edu/~ee16b/fa15/lab_pics/msp430.png\">\n",
    "\n",
    "The Launchpad interfaces with your PC through a USB cable and you can program the microcontroller through a couple different software. In this class we will be using Energia, a software built by TI to look like the Arduino programming environment.\n",
    "\n",
    "Let's start with loading some code on the Launchpad. Launch the Energia software and choose \"Launchpad w/ msp430f5529 (25MHz)\" under `Tools > Board`. You need to make sure to choose one of the msp430f5529's when working with these boards. The number in the parenthesis is the clock speed you want the microcontroller to run at.\n",
    "\n",
    "<img style=\"width:500px\" src=\"http://inst.eecs.berkeley.edu/~ee16b/fa15/lab_pics/msp-setboard.png\">\n",
    "\n",
    "When you connect the Launchpad to the PC using the USB cable, the Launchpad starts 2 COM ports to communicate with the PC. One of these is used for the Application UART (Universal Asynchronous Receiver/Transmitter) while the other is used for the debug interface. To choose the right COM port to connect to, click the Windows Home button and type in \"Device Manager\". Then, click \"Ports (COM & LPT)\". Note the COM value of the Application UART. <b>You need to do this every time you connect a Launchpad to a PC because the COM port might change.</b>\n",
    "\n",
    "<img style=\"width:400px\" src=\"http://inst.eecs.berkeley.edu/~ee16b/fa15/lab_pics/msp-devicemanager.png\">\n",
    "\n",
    "Under `Tools > Serial Port` choose the COM port you have noted before.\n",
    "\n",
    "<img style=\"width:400px\" src=\"http://inst.eecs.berkeley.edu/~ee16b/fa15/lab_pics/msp-setport.png\">\n",
    "\n",
    "Now click `File > Examples > Basics > Blink`. This opens an example sketch (code) that blinks one of the LEDs on the Launchpad.\n",
    "\n",
    "<img style=\"width:400px\" src=\"http://inst.eecs.berkeley.edu/~ee16b/fa15/lab_pics/msp-blink.png\">\n",
    "\n",
    "Click the Upload button (the right arrow in the top left of the window). If Energia asks for a firmware update, follow the instruction by clicking `Tools > Update Programmer`. Then, click on the upload button again.\n",
    "\n",
    "<img style=\"width:400px\" src=\"http://inst.eecs.berkeley.edu/~ee16b/fa15/lab_pics/msp-upload.png\">\n",
    "\n",
    "<img style=\"width:400px\" src=\"http://inst.eecs.berkeley.edu/~ee16b/fa15/lab_pics/msp-firmwareupdate.png\">\n",
    "\n",
    "Press the reset button (`RST`) in the Launchpad. The red LED on your Launchpad should blink. If it doesn't, get a GSI or lab helper to help you debug. In general, always hit the reset button after every upload."
   ]
  },
  {
   "cell_type": "markdown",
   "metadata": {},
   "source": [
    "There are multiple names that refer to the same pin in the Launchpad. For example, in the diagram below, `23` is the same as `P6_0`, which is the same as `A0`. You can use any of these three names in your sketch.\n",
    "\n",
    "<img style=\"width:800px\" src=\"http://inst.eecs.berkeley.edu/~ee16b/fa15/lab_pics/msp430pinout.jpg\">"
   ]
  },
  {
   "cell_type": "markdown",
   "metadata": {},
   "source": [
    "<a id='task2'></a>\n",
    "##<span style=\"color:blue\">Task 2: 4-bit Digital to Analog Converter (DAC)</span>\n",
    "\n",
    "###Materials\n",
    "- MSP430 Launchpad + USB cable\n",
    "- 1 k$\\Omega$ resistors\n",
    "- 2 k$\\Omega$ resistors\n",
    "- Breadboard\n",
    "- Oscilloscobe & probe"
   ]
  },
  {
   "cell_type": "markdown",
   "metadata": {},
   "source": [
    "We will first build a DAC to convert a binary input into an analog voltage. The binary input will come from the Launchpad while the analog voltage will be probed using an oscilloscope.\n",
    "\n",
    "We can build a DAC using only resistors in a structure called the R-2R ladder. This structure takes an $n$ bit binary input and converts it to an output voltage. You have actually seen this structure in your practice midterm in EE16A; let's analyze this structure again.\n",
    "\n",
    "<img style=\"width: 350px\" src=\"http://inst.eecs.berkeley.edu/~ee16b/fa15/lab_pics/r-2r.png\">"
   ]
  },
  {
   "cell_type": "markdown",
   "metadata": {},
   "source": [
    "For the questions below, we assume we have an $n = 3$ bit DAC.\n",
    "\n",
    "**<span style=\"color:red\">Assuming [$V_0, V_1, V_2$] = [0,0,0] (all in volts), what is $V_{out}$?</span>**\n",
    "\n",
    "YOUR ANSWER HERE\n",
    "\n",
    "**<span style=\"color:red\">Assuming [$V_0, V_1, V_2$] = [0,1,0], what is $V_{out}$?</span>**\n",
    "\n",
    "YOUR ANSWER HERE\n",
    "\n",
    "**<span style=\"color:red\">Assuming [$V_0, V_1, V_2$] = [0,0,1], what is $V_{out}$?</span>**\n",
    "\n",
    "YOUR ANSWER HERE\n",
    "\n",
    "**<span style=\"color:red\">Assuming [$V_0, V_1, V_2$] = [1,1,1], what is $V_{out}$?</span>**\n",
    "\n",
    "YOUR ANSWER HERE"
   ]
  },
  {
   "cell_type": "markdown",
   "metadata": {},
   "source": [
    "Now build a 3-bit DAC using the $1k\\Omega$ and $2 k\\Omega$ resistors in your packet. As a reminder, the chart below explains how to read the color coding on the resistors.\n",
    "\n",
    "<center>\n",
    "<img style=\"width:300px\" src=\"http://inst.eecs.berkeley.edu/~ee16b/fa15/lab_pics/resistor-colors.png\"/>\n",
    "</center>\n",
    "\n",
    "Open the file <b>`dac.ino`</b> in Energia and quickly read through it (what do you expect the output of the DAC to be?). Then upload the code to your Launchpad. The code outputs an increasing and decreasing binary number in pins [`8,9,10`] where pin `10` is the least significant bit (LSB). Connect these pins to the inputs $V_2, V_1,$ and $V_0$ of your DAC and use an oscilloscope probe $V_{out}$ to make sure your DAC behaves correctly. Adjust it to show 100ms per division. Make sure to connect the ground of your Launchpad with the ground of your circuit!"
   ]
  },
  {
   "cell_type": "markdown",
   "metadata": {},
   "source": [
    "Now <b>modify both your circuit and the Launchpad code</b> to extend the 3-bit DAC to 4 bits. You should use pin `7` for the new most significant bit (MSB). Make sure your 4-bit DAC works using the oscilloscope.\n",
    "\n",
    "**<span style=\"color:red\">Checkoff: Show your GSI your 4-bit DAC before you continue. DO NOT TAKE APART YOUR CIRCUIT.</span>**"
   ]
  },
  {
   "cell_type": "markdown",
   "metadata": {},
   "source": [
    "<a id='task3'></a>\n",
    "##<span style=\"color:blue\">Task 3: 4-bit Analog to Digital Converter (ADC)</span>\n",
    "\n",
    "###Materials\n",
    "- MSP430 Launchpad + USB cable\n",
    "- 1 k$\\Omega$ resistors\n",
    "- 2 k$\\Omega$ resistors\n",
    "- LMC6482 Op-amp\n",
    "- Breadboard\n",
    "- Oscilloscobe & probe\n",
    "- Power supply"
   ]
  },
  {
   "cell_type": "markdown",
   "metadata": {},
   "source": [
    "One commonly used circuit architecture for Analog to Digital Converters is the Successive Approximation Register ADC (SAR ADC). The MSP430F5529 microcontroller in your Launchpad actually contains a 12-bit SAR ADC (see page 35 of the microcontroller <a href=\"http://www.ti.com/lit/ds/symlink/msp430f5514.pdf\">spec sheet</a>; the <a href=\"http://www.ti.com/lit/ug/slau406d/slau406d.pdf\">user guide</a> of the ADC12 module has cool block diagrams!), although it is implemented as an integrated circuit and is way more complex than what we will be building today.\n",
    "\n",
    "<img style=\"width: 300px\" src=\"http://inst.eecs.berkeley.edu/~ee16b/fa15/lab_pics/sample-quantize.png\">\n",
    "\n",
    "In general, an ADC has to do two main things: sample and quantize. The sampling is realized in the \"Track/Hold\" block below while the quantizing happens in the rest of the block diagram.\n",
    "\n",
    "<img style=\"width: 500px\" src=\"http://inst.eecs.berkeley.edu/~ee16b/fa15/lab_pics/sar-adc.png\">\n",
    "\n",
    "The SAR actually uses a DAC. In the block diagram above, the \"Track/Hold\" block acts like a memory element that captures the input at regular intervals (at the sampling frequency). We then compare this value to a \"guess\" from our DAC and see if the DAC needs to go higher or lower to match the input value. The \"SAR logic\" block then changes the value stored in the \"N-bit Register\", which is the input to the DAC. This modifies the input to the comparator.\n",
    "\n",
    "The comparison doesn't happen only once for each sample. Assuming $V_{ref}$ is the highest input voltage possible, to approximate the input voltage we make the DAC output voltage range from 0 to $V_{ref}$. We start with setting the MSB of the register high. The output of the DAC should be $0.5V_{ref}$ and we compare this value to the input value. If the input value is higher than $0.5V_{ref}$, we keep the MSB high. Otherwise (as in the diagram below), we set the MSB low. Next we want to find the second MSB. We repeat the process again - set the 2nd MSB high and see if the input is higher or lower. If the input is higher we keep the 2nd MSB (like in the diagram) and if the input is lower we set the 2nd MSB low. We continue this process until we reach the LSB. This effectively implements a binary search on the input voltage.\n",
    "\n",
    "<img style=\"width: 400px\" src=\"http://inst.eecs.berkeley.edu/~ee16b/fa15/lab_pics/sar-adc-plot.png\">\n"
   ]
  },
  {
   "cell_type": "markdown",
   "metadata": {},
   "source": [
    "**<span style=\"color:red\">If we want to build a 4-bit DAC with a sampling frequency of 1kHz, what is the minimum clock frequency the DAC has to run at assuming all logic processing is done instantaneously?</span>**\n",
    "\n",
    "YOUR ANSWER HERE"
   ]
  },
  {
   "cell_type": "markdown",
   "metadata": {},
   "source": [
    "In our implementation, we will ignore the \"Track/Hold\" block since we will only be using the power source for the input voltage (i.e. we will only use a relatively constant input voltage). We will use an <a href=\"http://www.ti.com/lit/ds/symlink/lmc6482.pdf\">LMC6482</a> op-amp for the comparator and implement both the SAR logic and register in the Launchpad. We will use the 4-bit R-2R DAC we have built before for the DAC.\n",
    "\n",
    "Open the file `sar_adc.ino` and read through the code. It reads from pin `2` and outputs the approximated result in pins [`7,8,9,10`] with pin `10` as the LSB.\n",
    "\n",
    "Now build the circuit based on the block diagram above. <b>Make sure to set the current limit of the power source to 100mA.</b> Note that since your Launchpad outputs 3.3V, we will use 3.3V for all power supplies; use the +25V channel of the power supply to power the op-amp. Use the 6V channel as the input voltage (which ranges from 0V to 3.3V). To check the output, open the Serial Monitor in Energia (Control + Shift + M or `Tools > Serial Monitor`) and observe the output. Make sure the serial monitor is at 9600 baud.\n",
    "\n",
    "<img style=\"width:400px\" src=\"http://inst.eecs.berkeley.edu/~ee16b/fa15/lab_pics/opamp-pins.png\">\n",
    "<div align=\"center\">LMC6482 pin diagram</div>\n",
    "\n",
    "**<span style=\"color:red\">Checkoff: Show your working 4-bit ADC to your GSI and vary the input voltage.</span>**\n",
    "\n",
    "If you probe the input to the comparator, your oscilloscope should show something like this:\n",
    "\n",
    "<center>\n",
    "<img style=\"width:600px\" src=\"http://inst.eecs.berkeley.edu/~ee16b/fa15/lab_pics/adc-4.png\"/>\n",
    "</center>"
   ]
  },
  {
   "cell_type": "markdown",
   "metadata": {},
   "source": [
    "<a id='task3'></a>\n",
    "##<span style=\"color:blue\">Task 4: 8-bit Analog to Digital Converter (ADC)</span>\n",
    "\n",
    "###Materials\n",
    "- MSP430 Launchpad + USB cable\n",
    "- 1 k$\\Omega$ resistors\n",
    "- 2 k$\\Omega$ resistors\n",
    "- LMC6482 Op-amp\n",
    "- TLC7524CN 8-bit DAC\n",
    "- Breadboard\n",
    "- Oscilloscobe & probe\n",
    "- Power supply"
   ]
  },
  {
   "cell_type": "markdown",
   "metadata": {
    "collapsed": true
   },
   "source": [
    "We have a working 4-bit ADC and all is well, but suddenly Elad, your boss, tells you that he wants an 8-bit one instead! He also tells you that he wants to build it without any physical resistors - gasp!\n",
    "\n",
    "Fortunately, there are engineers who build DAC chips for a living, and you found a couple <a href=\"http://www.ti.com/lit/ds/slas061d/slas061d.pdf\">TLC7524CN</a> DACs laying around."
   ]
  },
  {
   "cell_type": "markdown",
   "metadata": {},
   "source": [
    "**<span style=\"color:red\">Look at the second page of the datasheet (linked above). How is the TLC7524 DAC implemented?</span>**\n",
    "\n",
    "YOUR ANSWER HERE"
   ]
  },
  {
   "cell_type": "markdown",
   "metadata": {},
   "source": [
    "It turns out that the DAC needs some buffering. Below is a modified version of Figure 3 in page 7 in the datasheet on Principles of Operation.\n",
    "\n",
    "<img style=\"width:600px\" src=\"http://inst.eecs.berkeley.edu/~ee16b/fa15/lab_pics/dac-buffer.png\">\n",
    "\n",
    "From the schematic above and the pin diagram below, connect the DAC with an op-amp in the <a href=\"http://www.ti.com/lit/ds/symlink/lmc6482.pdf\">LMC6482</a> chip. Make sure to use 3.3V for the supply voltage in the DAC and <b>both 3.3V and -3.3V</b> for the supply voltage in the op-amp, all from the +/- 25V channel in the power supply. Hook up `REF` to 3.3V and both $\\overline{WR}$ and $\\overline{CS}$ to ground. Modify your <b>`dac.ino`</b> from before to sweep an 8-bit output in the Launchpad's pins `3` through `10` and test your DAC using an oscilloscope probe.\n",
    "\n",
    "<img style=\"width:200px\" src=\"http://inst.eecs.berkeley.edu/~ee16b/fa15/lab_pics/dac-pins.png\">\n",
    "<div align=\"center\">TLC7524 pin diagram</div>\n",
    "<img style=\"width:400px\" src=\"http://inst.eecs.berkeley.edu/~ee16b/fa15/lab_pics/opamp-pins.png\">\n",
    "<div align=\"center\">LMC6482 pin diagram</div>"
   ]
  },
  {
   "cell_type": "markdown",
   "metadata": {},
   "source": [
    "You may realize that the output is actually inverted like the image below!\n",
    "\n",
    "<center>\n",
    "<img style=\"width:600px\" src=\"http://inst.eecs.berkeley.edu/~ee16b/fa15/lab_pics/dac-8-inv.png\"/>\n",
    "</center>\n",
    "\n",
    "This is because the buffer in the schematic above is tied in an inverting amplifier configuration. Add another inverting amplifier with gain of `-1` with the other op-amp in the LMC6482 chip to create a positive output voltage. Probe the output one last time to make sure your DAC is set up properly. It should look like below. Don't worry about the clipping near the highest voltage.\n",
    "\n",
    "<center>\n",
    "<img style=\"width:600px\" src=\"http://inst.eecs.berkeley.edu/~ee16b/fa15/lab_pics/dac-8.png\"/>\n",
    "</center>"
   ]
  },
  {
   "cell_type": "markdown",
   "metadata": {},
   "source": [
    "Lastly, hook up your DAC setup to the rest of the SAR ADC circuit (which should comprise of nothing but an op-amp set as a comparator right now). Make sure your comparator op-amp is still sourced from 3.3V and ground (not -3.3V). Modify your <b>`sar_adc.ino`</b> sketch to implement an 8-bit ADC. Lastly, test your 8-bit SAR ADC by inputing constant voltages from the power supply (make sure the range is 0 to 3.3V!) and seeing the printout in the Serial Monitor in Energia.\n",
    "\n",
    "**<span style=\"color:red\">Checkoff: Show your working 8-bit ADC to your GSI and vary the input voltage.</span>**\n",
    "\n",
    "Your oscilloscope should show something like this:\n",
    "<center>\n",
    "<img style=\"width:600px\" src=\"http://inst.eecs.berkeley.edu/~ee16b/fa15/lab_pics/adc-8.png\"/>\n",
    "</center>"
   ]
  }
 ],
 "metadata": {
  "kernelspec": {
   "display_name": "Python 3",
   "language": "python",
   "name": "python3"
  },
  "language_info": {
   "codemirror_mode": {
    "name": "ipython",
    "version": 3
   },
   "file_extension": ".py",
   "mimetype": "text/x-python",
   "name": "python",
   "nbconvert_exporter": "python",
   "pygments_lexer": "ipython3",
   "version": "3.4.3"
  }
 },
 "nbformat": 4,
 "nbformat_minor": 0
}
